{
  "cells": [
    {
      "cell_type": "markdown",
      "metadata": {
        "id": "view-in-github",
        "colab_type": "text"
      },
      "source": [
        "<a href=\"https://colab.research.google.com/github/ndamulelonemakh/shared-notebooks/blob/main/1_0_nn_zabantu_POS_share001.ipynb\" target=\"_parent\"><img src=\"https://colab.research.google.com/assets/colab-badge.svg\" alt=\"Open In Colab\"/></a>"
      ]
    },
    {
      "cell_type": "markdown",
      "metadata": {
        "id": "FCyZ_qhJ9lxt"
      },
      "source": [
        "# Overview\n",
        "\n",
        "## Fine-tune a [ZaBantu](https://huggingface.co/dsfsi/zabantu-xlm-roberta) model on a Parts of Speech(POS) task\n",
        "\n",
        "This notebook demonstrates how to use the 🤗 Transformers library to **fine-tune a pre-trained language model** on a token classification task(this can either be `pos` or `ner`)\n",
        "\n",
        "The notebook is divided into the following sections:\n",
        "\n",
        "* **Environment Setup**\n",
        "* **Global Parameters**\n",
        "* **Data Preparation**\n",
        "* **Preprocessing the data**\n",
        "* **Fine-tuning the Pre-Trained Model**\n",
        "* **Evaluate the Fine-Tuned Model**\n",
        "* **(Optional) Upload to hub**\n",
        "\n",
        "> This notebook is intended for users who are familiar with the basics of deep learning and natural language processing. It is also recommended that users have some experience with the Python programming language and the Jupyter Notebook environment.\n",
        "\n",
        "\n",
        "---\n",
        "\n",
        "* [Reference - Huggingface Notebook Examples on GitHub](https://github.com/huggingface/notebooks)"
      ]
    },
    {
      "cell_type": "code",
      "execution_count": 59,
      "metadata": {
        "id": "4RpIM4GD_EzS"
      },
      "outputs": [],
      "source": []
    },
    {
      "cell_type": "markdown",
      "metadata": {
        "id": "0Z01a3Ee-Usy"
      },
      "source": [
        "# Environment setup"
      ]
    },
    {
      "cell_type": "markdown",
      "metadata": {
        "id": "DZMFAKCE-F0q"
      },
      "source": [
        "**Make sure to install the dependencies below if you have not done so already**"
      ]
    },
    {
      "cell_type": "code",
      "execution_count": 60,
      "metadata": {
        "id": "MOsHUjgdIrIW"
      },
      "outputs": [],
      "source": [
        "%pip install --quiet datasets transformers sentencepiece seqeval"
      ]
    },
    {
      "cell_type": "code",
      "execution_count": 61,
      "metadata": {
        "id": "a9xl8Z5tH1oj"
      },
      "outputs": [],
      "source": [
        "%pip install accelerate -U --quiet"
      ]
    },
    {
      "cell_type": "code",
      "execution_count": 62,
      "metadata": {
        "id": "38qcgyoCeHkc"
      },
      "outputs": [],
      "source": [
        "%pip install --quiet --upgrade huggingface_hub"
      ]
    },
    {
      "cell_type": "code",
      "execution_count": 63,
      "metadata": {
        "id": "ppkUz7nKeFir"
      },
      "outputs": [],
      "source": [
        "%pip install --quiet evaluate"
      ]
    },
    {
      "cell_type": "code",
      "execution_count": 64,
      "metadata": {
        "id": "eaPyqj0w4Sf9",
        "colab": {
          "base_uri": "https://localhost:8080/"
        },
        "outputId": "4aceaf42-a1de-446b-c41a-f576d9c1689d"
      },
      "outputs": [
        {
          "output_type": "stream",
          "name": "stdout",
          "text": [
            "4.40.1\n"
          ]
        }
      ],
      "source": [
        "import transformers\n",
        "\n",
        "print(transformers.__version__)"
      ]
    },
    {
      "cell_type": "markdown",
      "metadata": {
        "id": "weQL1WeW-XsC"
      },
      "source": [
        "**If you intend to upload your trained model to HuggingFace or access a private model: ***\n",
        "\n",
        "* You need to login, using any of the recommended [authentication methods](https://huggingface.co/docs/huggingface_hub/en/quick-start#authentication)\n",
        "* In this notebook we use `huggingface_hub.notebook_login()` method"
      ]
    },
    {
      "cell_type": "code",
      "execution_count": 65,
      "metadata": {
        "id": "AWKIUQIEy07O"
      },
      "outputs": [],
      "source": [
        "from huggingface_hub import notebook_login, whoami\n",
        "\n",
        "try:\n",
        "  whoami()\n",
        "except:\n",
        "  print(\"User token not found, calling notebook_login()...\")\n",
        "  notebook_login()"
      ]
    },
    {
      "cell_type": "code",
      "execution_count": 65,
      "metadata": {
        "id": "Fu3adPDeAbsy"
      },
      "outputs": [],
      "source": []
    },
    {
      "cell_type": "markdown",
      "metadata": {
        "id": "P_cNXwILCcWj"
      },
      "source": [
        "# Global Parameters"
      ]
    },
    {
      "cell_type": "code",
      "execution_count": 100,
      "metadata": {
        "id": "KcEieZ7jCe1K"
      },
      "outputs": [],
      "source": [
        "task = \"pos\" # Can be one of \"pos\" or \"ner\"\n",
        "\n",
        "# model options:\n",
        "# - dsfsi/zabantu-xlm-roberta\n",
        "# - dsfsi/zabantu-sot-ven-170m\n",
        "# - dsfsi/zabantu-nso-ven-170m\n",
        "# - dsfsi/zabantu-nso-120m\n",
        "model_checkpoint = \"dsfsi/zabantu-sot-ven-170m\"\n",
        "dataset_checkpoint = \"conll2003\"\n",
        "push_to_hub_enabled = False\n",
        "trained_model_checkpoint = f\"{model_checkpoint}-finetuned-{task}\"\n",
        "trained_model_checkpoint_hub = f\"ndamulelonemakh/{trained_model_checkpoint}\"\n",
        "batch_size = 16  # adjust depending on GPU size\n",
        "epochs = 3"
      ]
    },
    {
      "cell_type": "code",
      "execution_count": 66,
      "metadata": {
        "id": "bcIV0DnGCeyX"
      },
      "outputs": [],
      "source": []
    },
    {
      "cell_type": "markdown",
      "metadata": {
        "id": "whPRbBNbIrIl"
      },
      "source": [
        "# Data Preperation\n",
        "\n",
        "- Once processed, your dataset must look somthing like this:\n",
        "\n",
        "\n",
        "![image.png](data:image/png;base64,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)"
      ]
    },
    {
      "cell_type": "code",
      "execution_count": 66,
      "metadata": {
        "id": "Dt4KIqkib9_5"
      },
      "outputs": [],
      "source": []
    },
    {
      "cell_type": "markdown",
      "metadata": {
        "id": "gBj7XLWdb9_5"
      },
      "source": [
        "## Load Masakhane POS"
      ]
    },
    {
      "cell_type": "markdown",
      "metadata": {
        "jp-MarkdownHeadingCollapsed": true,
        "tags": [],
        "id": "21em7esLb9_5"
      },
      "source": [
        "### Utilities"
      ]
    },
    {
      "cell_type": "code",
      "source": [],
      "metadata": {
        "id": "NIjm51TJgNrI"
      },
      "execution_count": 66,
      "outputs": []
    },
    {
      "cell_type": "code",
      "execution_count": 67,
      "metadata": {
        "id": "JYOmJLP1b9_5"
      },
      "outputs": [],
      "source": [
        "from datasets import load_dataset, Dataset, DatasetDict\n",
        "from typing import List, Tuple\n",
        "\n",
        "\n",
        "def load_sentences(filepath: str) -> List[List[Tuple[str, str]]]:\n",
        "    \"\"\"\n",
        "    Load sentences from a file in IOB format.\n",
        "\n",
        "    Args:\n",
        "        filepath (str): Path to the input file.\n",
        "\n",
        "    Returns:\n",
        "        List[List[Tuple[str, str]]]: A list of sentences, where each sentence is a list of tuples (token, pos_tag).\n",
        "    \"\"\"\n",
        "    sentences = []\n",
        "    current_sentence = []\n",
        "\n",
        "    with open(filepath, 'r', encoding='utf-8') as f:\n",
        "        for line in f:\n",
        "            if len(line.strip()) == 0:\n",
        "                sentences.append(current_sentence)\n",
        "                current_sentence = []\n",
        "            else:\n",
        "                token, pos_tag = line.strip().split()\n",
        "                current_sentence.append((token, pos_tag))\n",
        "\n",
        "    if current_sentence:\n",
        "        sentences.append(current_sentence)\n",
        "\n",
        "    return sentences\n",
        "\n",
        "\n",
        "def convert_to_conll(sentences: List[List[Tuple[str, str]]]) -> List[dict]:\n",
        "    \"\"\"\n",
        "    Convert sentences to the CoNLL-3 format.\n",
        "\n",
        "    Args:\n",
        "        sentences (List[List[Tuple[str, str]]]): A list of sentences, where each sentence is a list of tuples (token, pos_tag).\n",
        "\n",
        "    Returns:\n",
        "        List[dict]: A list of dictionaries representing the sentences in the CoNLL-3 format.\n",
        "    \"\"\"\n",
        "    data = []\n",
        "\n",
        "    for sent_id, sentence in enumerate(sentences):\n",
        "        tokens = []\n",
        "        pos_tags = []\n",
        "        for token, pos_tag in sentence:\n",
        "            tokens.append(token)\n",
        "            pos_tags.append(pos_tag)\n",
        "\n",
        "        data.append({\n",
        "            \"id\": sent_id,\n",
        "            \"tokens\": tokens,\n",
        "            \"pos_tags\": pos_tags,\n",
        "        })\n",
        "\n",
        "    return data\n",
        "\n",
        "\n",
        "def create_hf_dataset(data: List[dict]) -> Dataset:\n",
        "    \"\"\"\n",
        "    Convert data to a Hugging Face Dataset.\n",
        "\n",
        "    Args:\n",
        "        data (List[dict]): A list of dictionaries representing the sentences in the CoNLL-3 format.\n",
        "\n",
        "    Returns:\n",
        "        Dataset: A Hugging Face Dataset containing the data.\n",
        "    \"\"\"\n",
        "    from datasets import Dataset, ClassLabel, Sequence\n",
        "\n",
        "    pos_tag_class = ClassLabel(names=sorted(set(tag for d in data for tag in d[\"pos_tags\"])))\n",
        "\n",
        "    encoded_data = {\n",
        "        \"id\": [],\n",
        "        \"tokens\": [],\n",
        "        \"pos_tags\": [],\n",
        "    }\n",
        "\n",
        "    for d in data:\n",
        "        encoded_pos_tags = pos_tag_class.str2int(d[\"pos_tags\"])\n",
        "        encoded_data['id'].append(d['id'])\n",
        "        encoded_data['tokens'].append(d['tokens'])\n",
        "        encoded_data['pos_tags'].append(encoded_pos_tags)\n",
        "\n",
        "    d = Dataset.from_dict(encoded_data)\n",
        "    pos_tags_feature = Sequence(feature=ClassLabel(names=pos_tag_class.names))\n",
        "    d = d.cast_column('pos_tags', pos_tags_feature)\n",
        "\n",
        "    return d\n",
        "\n",
        "\n",
        "def iob_to_hugging_face(train_file: str, validation_file: str = None, test_file: str = None) -> DatasetDict:\n",
        "    sentences = load_sentences(train_file)\n",
        "    sentence_dicts = convert_to_conll(sentences)\n",
        "    train_dataset = create_hf_dataset(sentence_dicts)\n",
        "\n",
        "    data_dict = DatasetDict({'train': train_dataset})\n",
        "\n",
        "    # If validation_file is provided, load and convert the sentences\n",
        "    if validation_file:\n",
        "        validation_sentences = load_sentences(validation_file)\n",
        "        validation_sentence_dicts = convert_to_conll(validation_sentences)\n",
        "        validation_dataset = create_hf_dataset(validation_sentence_dicts)\n",
        "        data_dict['validation'] = validation_dataset\n",
        "\n",
        "    # If test_file is provided, load and convert the sentences\n",
        "    if test_file:\n",
        "        test_sentences = load_sentences(test_file)\n",
        "        test_sentence_dicts = convert_to_conll(test_sentences)\n",
        "        test_dataset = create_hf_dataset(test_sentence_dicts)\n",
        "        data_dict['test'] = test_dataset\n",
        "    return data_dict\n"
      ]
    },
    {
      "cell_type": "code",
      "source": [
        "from datasets import ClassLabel, Sequence\n",
        "import random\n",
        "import pandas as pd\n",
        "from IPython.display import display, HTML\n",
        "\n",
        "def show_random_elements(dataset, num_examples=10):\n",
        "    assert num_examples <= len(dataset), \"Can't pick more elements than there are in the dataset.\"\n",
        "    picks = []\n",
        "    for _ in range(num_examples):\n",
        "        pick = random.randint(0, len(dataset)-1)\n",
        "        while pick in picks:\n",
        "            pick = random.randint(0, len(dataset)-1)\n",
        "        picks.append(pick)\n",
        "\n",
        "    df = pd.DataFrame(dataset[picks])\n",
        "    for column, typ in dataset.features.items():\n",
        "        if isinstance(typ, ClassLabel):\n",
        "            df[column] = df[column].transform(lambda i: typ.names[i])\n",
        "        elif isinstance(typ, Sequence) and isinstance(typ.feature, ClassLabel):\n",
        "            df[column] = df[column].transform(lambda x: [typ.feature.names[i] for i in x])\n",
        "    display(HTML(df.to_html()))"
      ],
      "metadata": {
        "id": "Ut4HQ-t7gPGJ"
      },
      "execution_count": 68,
      "outputs": []
    },
    {
      "cell_type": "code",
      "execution_count": 68,
      "metadata": {
        "id": "7IcyDuGgb9_5"
      },
      "outputs": [],
      "source": []
    },
    {
      "cell_type": "markdown",
      "metadata": {
        "jp-MarkdownHeadingCollapsed": true,
        "tags": [],
        "id": "8jEMYu5ib9_5"
      },
      "source": [
        "### Format Masakhane as Huggingface Dataset"
      ]
    },
    {
      "cell_type": "code",
      "execution_count": 69,
      "metadata": {
        "id": "4Gu86XD18yuE",
        "outputId": "8ca060c7-981b-4277-8b7f-18c6ed044fbf",
        "colab": {
          "base_uri": "https://localhost:8080/"
        }
      },
      "outputs": [
        {
          "output_type": "stream",
          "name": "stdout",
          "text": [
            "--2024-05-02 08:53:23--  https://raw.githubusercontent.com/masakhane-io/masakhane-pos/main/data/tsn/train.txt\n",
            "Resolving raw.githubusercontent.com (raw.githubusercontent.com)... 185.199.108.133, 185.199.109.133, 185.199.110.133, ...\n",
            "Connecting to raw.githubusercontent.com (raw.githubusercontent.com)|185.199.108.133|:443... connected.\n",
            "HTTP request sent, awaiting response... 200 OK\n",
            "Length: 219713 (215K) [text/plain]\n",
            "Saving to: ‘train.txt.1’\n",
            "\n",
            "\rtrain.txt.1           0%[                    ]       0  --.-KB/s               \rtrain.txt.1         100%[===================>] 214.56K  --.-KB/s    in 0.009s  \n",
            "\n",
            "2024-05-02 08:53:24 (24.4 MB/s) - ‘train.txt.1’ saved [219713/219713]\n",
            "\n",
            "--2024-05-02 08:53:24--  https://raw.githubusercontent.com/masakhane-io/masakhane-pos/main/data/tsn/dev.txt\n",
            "Resolving raw.githubusercontent.com (raw.githubusercontent.com)... 185.199.108.133, 185.199.109.133, 185.199.110.133, ...\n",
            "Connecting to raw.githubusercontent.com (raw.githubusercontent.com)|185.199.108.133|:443... connected.\n",
            "HTTP request sent, awaiting response... 200 OK\n",
            "Length: 40665 (40K) [text/plain]\n",
            "Saving to: ‘dev.txt.1’\n",
            "\n",
            "dev.txt.1           100%[===================>]  39.71K  --.-KB/s    in 0.001s  \n",
            "\n",
            "2024-05-02 08:53:24 (39.1 MB/s) - ‘dev.txt.1’ saved [40665/40665]\n",
            "\n",
            "--2024-05-02 08:53:24--  https://raw.githubusercontent.com/masakhane-io/masakhane-pos/main/data/tsn/test.txt\n",
            "Resolving raw.githubusercontent.com (raw.githubusercontent.com)... 185.199.109.133, 185.199.111.133, 185.199.110.133, ...\n",
            "Connecting to raw.githubusercontent.com (raw.githubusercontent.com)|185.199.109.133|:443... connected.\n",
            "HTTP request sent, awaiting response... 200 OK\n",
            "Length: 154747 (151K) [text/plain]\n",
            "Saving to: ‘test.txt.1’\n",
            "\n",
            "test.txt.1          100%[===================>] 151.12K  --.-KB/s    in 0.008s  \n",
            "\n",
            "2024-05-02 08:53:24 (17.5 MB/s) - ‘test.txt.1’ saved [154747/154747]\n",
            "\n"
          ]
        }
      ],
      "source": [
        "## Get masakhane POS dataset\n",
        "!wget https://raw.githubusercontent.com/masakhane-io/masakhane-pos/main/data/tsn/train.txt\n",
        "!wget https://raw.githubusercontent.com/masakhane-io/masakhane-pos/main/data/tsn/dev.txt\n",
        "!wget https://raw.githubusercontent.com/masakhane-io/masakhane-pos/main/data/tsn/test.txt"
      ]
    },
    {
      "cell_type": "code",
      "execution_count": 70,
      "metadata": {
        "id": "YARzwakA8ypq",
        "outputId": "871874fb-80e9-42fa-f417-a84b9d474b25",
        "colab": {
          "referenced_widgets": [
            "dd4d05c3536f4a49845d716362433a3d",
            "20cdb2ce12e94aea92d4170f3ca94b76",
            "1d2a3648e28741d3a38c28e0f5d814cc",
            "a2ff9eb58b0d4021b11fe83ea5f17ebc",
            "de6317841eeb4905ab75197f97b9643b",
            "e84d1d76fd15454a8d3707c6064cff48",
            "9e0c6f3fdd5b472880e65db283beff06",
            "995ca0fba9264edd9ce7df46b33e48e5",
            "528179f477f1484ea36cb274fc78128d",
            "11ab3057e7ee4b98b4f40ac047a08abf",
            "83a5ab74fbd9487eb02b43f1ab2217f6",
            "9bcfca6553864d7b81ec2e587f781039",
            "a8a83188c2eb4f2697c9ea84906ff8b6",
            "3d2dcdae45744a36bc61b2d051827d69",
            "02c4ff044e3d400fac8c05f7408bcb18",
            "a03c104d275142bcb698f4391cea8681",
            "b90f579ae0fd4df8ab0197e3f6d7d26f",
            "c88a781d674e40f0a731e470b4371cc7",
            "823fc1dc5d5b40b1be2b1a376ce039f0",
            "fe8f2da660f34ab990f94457b70b1b6a",
            "ae9f03e002db48d4933d1d56455f28fd",
            "2840020468664765b461a9a2e6b094c0",
            "7457ae52b5394b359707ed3bb7edae71",
            "2825dd7d7516415f950eb7b23fa0729f",
            "56434db29d464c4f97d74a92ba7a95f1",
            "367fa0d75a4844eda594333a08e79ba1",
            "dd13432283a24177af2ae98046625214",
            "ae30b922460e4d14b463641050087e50",
            "e3b9172a621a4911af3671e4744e2c5f",
            "05932b678c8b43f6b32d26a3adbfe70d",
            "453ced53216d40a5bb6a379b969da810",
            "6c1551d49bc14da8a94bdab4ca050ba0",
            "92ff28c70ebd485bb0467e68612f98b7"
          ],
          "base_uri": "https://localhost:8080/",
          "height": 0
        }
      },
      "outputs": [
        {
          "output_type": "display_data",
          "data": {
            "text/plain": [
              "Casting the dataset:   0%|          | 0/754 [00:00<?, ? examples/s]"
            ],
            "application/vnd.jupyter.widget-view+json": {
              "version_major": 2,
              "version_minor": 0,
              "model_id": "dd4d05c3536f4a49845d716362433a3d"
            }
          },
          "metadata": {}
        },
        {
          "output_type": "display_data",
          "data": {
            "text/plain": [
              "Casting the dataset:   0%|          | 0/150 [00:00<?, ? examples/s]"
            ],
            "application/vnd.jupyter.widget-view+json": {
              "version_major": 2,
              "version_minor": 0,
              "model_id": "9bcfca6553864d7b81ec2e587f781039"
            }
          },
          "metadata": {}
        },
        {
          "output_type": "display_data",
          "data": {
            "text/plain": [
              "Casting the dataset:   0%|          | 0/602 [00:00<?, ? examples/s]"
            ],
            "application/vnd.jupyter.widget-view+json": {
              "version_major": 2,
              "version_minor": 0,
              "model_id": "7457ae52b5394b359707ed3bb7edae71"
            }
          },
          "metadata": {}
        }
      ],
      "source": [
        "datasets = iob_to_hugging_face('train.txt', 'dev.txt', 'test.txt')"
      ]
    },
    {
      "cell_type": "code",
      "execution_count": 71,
      "metadata": {
        "id": "_iMFDY8C8ylE",
        "tags": [],
        "outputId": "b2ea96bc-9079-4c4b-ab57-8fd1d8196d08",
        "colab": {
          "base_uri": "https://localhost:8080/"
        }
      },
      "outputs": [
        {
          "output_type": "execute_result",
          "data": {
            "text/plain": [
              "DatasetDict({\n",
              "    train: Dataset({\n",
              "        features: ['id', 'tokens', 'pos_tags'],\n",
              "        num_rows: 754\n",
              "    })\n",
              "    validation: Dataset({\n",
              "        features: ['id', 'tokens', 'pos_tags'],\n",
              "        num_rows: 150\n",
              "    })\n",
              "    test: Dataset({\n",
              "        features: ['id', 'tokens', 'pos_tags'],\n",
              "        num_rows: 602\n",
              "    })\n",
              "})"
            ]
          },
          "metadata": {},
          "execution_count": 71
        }
      ],
      "source": [
        "datasets"
      ]
    },
    {
      "cell_type": "code",
      "execution_count": 72,
      "metadata": {
        "id": "nkDO09WWFlvD",
        "tags": [],
        "outputId": "7933bbc7-7322-4fcb-9ab0-fcdd3d80afb6",
        "colab": {
          "base_uri": "https://localhost:8080/",
          "height": 0
        }
      },
      "outputs": [
        {
          "output_type": "display_data",
          "data": {
            "text/plain": [
              "<IPython.core.display.HTML object>"
            ],
            "text/html": [
              "<table border=\"1\" class=\"dataframe\">\n",
              "  <thead>\n",
              "    <tr style=\"text-align: right;\">\n",
              "      <th></th>\n",
              "      <th>id</th>\n",
              "      <th>tokens</th>\n",
              "      <th>pos_tags</th>\n",
              "    </tr>\n",
              "  </thead>\n",
              "  <tbody>\n",
              "    <tr>\n",
              "      <th>0</th>\n",
              "      <td>654</td>\n",
              "      <td>[ka, gale, ,, go, begilwe, gore, leroborobo, la, corona, le, tshwerwe, madirelo, a, mantsi, a, sa, nagana, ,, mme, se, sa, pateletsa, gore, bao, ba, leng, mo, karolong, ya, botlhami, ba, dire, dilo, ka, tsela, e, nngwe]</td>\n",
              "      <td>[ADP, ADV, PUNCT, VERB, VERB, CCONJ, NOUN, DET, NOUN, CCONJ, VERB, NOUN, DET, ADJ, DET, AUX, VERB, PUNCT, CCONJ, DET, AUX, VERB, CCONJ, DET, DET, AUX, DET, NOUN, DET, NOUN, PRON, VERB, NOUN, ADP, NOUN, DET, DET]</td>\n",
              "    </tr>\n",
              "    <tr>\n",
              "      <th>1</th>\n",
              "      <td>114</td>\n",
              "      <td>[Jaaka, a, itse, ke, balatsedi, ba, gagwe, ka, leina, go, diragatsa, la, DMX, kgotsa, Dark, Man, X, ,, Simmons, o, begilwe, a, beilwe, mo, motšheneng, wa, tshegetso, botshelong, ka, Mosupologo, ,, go, ya, ka, RollingStone, .]</td>\n",
              "      <td>[CCONJ, DET, VERB, ADP, NOUN, DET, DET, ADP, NOUN, VERB, VERB, DET, PROPN, CCONJ, PROPN, PROPN, PROPN, PUNCT, PROPN, DET, VERB, DET, VERB, DET, NOUN, DET, NOUN, NOUN, ADP, NOUN, PUNCT, DET, ADV, ADP, PROPN, PUNCT]</td>\n",
              "    </tr>\n",
              "    <tr>\n",
              "      <th>2</th>\n",
              "      <td>25</td>\n",
              "      <td>[O, tla, dira, pontsho, ya, bobedi, ka, 9, Motsheganong, ,, e, leng, letsatsi, la, bomme, kwa, United, State, .]</td>\n",
              "      <td>[PRON, VERB, VERB, NOUN, DET, NUM, ADP, NUM, NOUN, PUNCT, DET, AUX, NOUN, DET, NOUN, DET, PROPN, PROPN, PUNCT]</td>\n",
              "    </tr>\n",
              "    <tr>\n",
              "      <th>3</th>\n",
              "      <td>281</td>\n",
              "      <td>[O, okeditse, ka, gore, ,, tsweletso, go, tswa, go, lebante, la, letsogo, la, ga, Ronaldo, e, ka, nna, seabe, se, se, botlhokwa, thata, .]</td>\n",
              "      <td>[PRON, VERB, ADP, CCONJ, PUNCT, VERB, ADP, ADP, ADP, NOUN, DET, NOUN, DET, DET, PROPN, PRON, AUX, AUX, NOUN, DET, PRON, NOUN, ADV, PUNCT]</td>\n",
              "    </tr>\n",
              "    <tr>\n",
              "      <th>4</th>\n",
              "      <td>250</td>\n",
              "      <td>[Tirelo, ya, kgaso, e, ne, e, tlhagisiwa, go, tlotla, badiri, ba, tlhokomelo, ya, boitekanelo, ba, ba, tlhokofetseng, ka, Khorona, go, tloga, mo, ngwageng, o, o, fetileng, .]</td>\n",
              "      <td>[NOUN, DET, NOUN, DET, AUX, PRON, VERB, VERB, VERB, NOUN, DET, NOUN, DET, NOUN, DET, PRON, VERB, ADP, NOUN, VERB, VERB, DET, NOUN, DET, PRON, VERB, PUNCT]</td>\n",
              "    </tr>\n",
              "    <tr>\n",
              "      <th>5</th>\n",
              "      <td>228</td>\n",
              "      <td>[O, tshwantshitse, leroborobo, la, mogare, wa, khorona, le, lefifi, le, le, tlileng, ka, bonako, la, apesa, letsatsi, ka, nako, ya, bofelo, e, Jeso, a, neng, a, le, mo, sefapanong, .]</td>\n",
              "      <td>[PRON, VERB, NOUN, DET, NOUN, DET, NOUN, ADP, NOUN, DET, PRON, VERB, ADP, NOUN, DET, VERB, NOUN, ADP, NOUN, DET, NOUN, DET, PROPN, DET, AUX, PRON, DET, DET, NOUN, PUNCT]</td>\n",
              "    </tr>\n",
              "    <tr>\n",
              "      <th>6</th>\n",
              "      <td>142</td>\n",
              "      <td>[Filimi, ,, e, gape, e, tshamekang, mo, Disney, Plus, ka, tuelo, e, kana, ka, $, 30, ,, e, dirile, dimilione, di, le, $, 32, mo, lebokosong, la, selegae, .]</td>\n",
              "      <td>[NOUN, PUNCT, DET, ADV, PRON, VERB, DET, PROPN, PROPN, ADP, NOUN, DET, ADV, ADP, SYM, NUM, PUNCT, PRON, VERB, NOUN, DET, DET, SYM, NUM, DET, NOUN, DET, NOUN, PUNCT]</td>\n",
              "    </tr>\n",
              "    <tr>\n",
              "      <th>7</th>\n",
              "      <td>104</td>\n",
              "      <td>[Jaaka, molweladiphetogo, wa, sepolotiki, mo, bokwading, jwa, gagwe, ,, re, lemoga, mo, dibukeng, di, le, dintsi, gore, o, ne, a, leka, go, tshwantsha, botshelo, jwa, motho, fela, yo, montsho, yo, o, neng, a, gatelelwa, ke, puso, e, e, fetileng, .]</td>\n",
              "      <td>[CCONJ, NOUN, DET, NOUN, DET, NOUN, DET, DET, PUNCT, PRON, VERB, DET, NOUN, DET, DET, ADJ, CCONJ, PRON, AUX, DET, VERB, VERB, VERB, NOUN, DET, NOUN, ADV, DET, ADJ, DET, PRON, AUX, DET, VERB, ADP, NOUN, DET, PRON, VERB, PUNCT]</td>\n",
              "    </tr>\n",
              "    <tr>\n",
              "      <th>8</th>\n",
              "      <td>692</td>\n",
              "      <td>[Simmons, le, ena, o, simolotse, mo, difiliming, tse, jana, ka, 1998, terama, ya, bosenyi, ya, Belly, ,, mmofi, wa, 2000, wa, tiragatso, wa, Romeo, Must, Die, ,, le, 2003, filimi, ya, bogodu, Cradle, 2, the, Grave, .]</td>\n",
              "      <td>[PROPN, CCONJ, PRON, DET, VERB, DET, NOUN, DET, ADV, ADP, NUM, NOUN, DET, NOUN, DET, PROPN, PUNCT, NOUN, DET, NUM, DET, NOUN, DET, PROPN, PROPN, PROPN, PUNCT, CCONJ, NUM, NOUN, DET, NOUN, PROPN, NUM, PROPN, PROPN, PUNCT]</td>\n",
              "    </tr>\n",
              "    <tr>\n",
              "      <th>9</th>\n",
              "      <td>558</td>\n",
              "      <td>[Lekoko, la, sepolotiki, la, ga, Herman, Mashaba, ,, ActionSA, le, latofaditse, Khomišene, ya, Ditlhopho, ya, Aforikaborwa, (, IEC, ), ka, go, kopa, dimpho, go, makoko, a, sepolotiki, ka, tsamaiso, ya, Multi, -, Party, Democracy, Fund, .]</td>\n",
              "      <td>[NOUN, DET, NOUN, DET, DET, PROPN, PROPN, PUNCT, PROPN, DET, VERB, NOUN, DET, NOUN, DET, PROPN, PUNCT, PROPN, PUNCT, ADP, VERB, VERB, NOUN, ADP, NOUN, DET, NOUN, ADP, NOUN, DET, NOUN, PUNCT, NOUN, NOUN, NOUN, PUNCT]</td>\n",
              "    </tr>\n",
              "  </tbody>\n",
              "</table>"
            ]
          },
          "metadata": {}
        }
      ],
      "source": [
        "show_random_elements(datasets[\"train\"])"
      ]
    },
    {
      "cell_type": "code",
      "execution_count": 72,
      "metadata": {
        "id": "CZKYbZvub9_9"
      },
      "outputs": [],
      "source": []
    },
    {
      "cell_type": "markdown",
      "metadata": {
        "id": "n9qywopnIrJH"
      },
      "source": [
        "# Preprocessing the data"
      ]
    },
    {
      "cell_type": "markdown",
      "metadata": {
        "id": "YVx71GdAIrJH"
      },
      "source": [
        "**Objectives:**\n",
        "\n",
        "*   Converting the tokens to their corresponding IDs in the pretrained vocabulary, see [example]()"
      ]
    },
    {
      "cell_type": "code",
      "execution_count": 73,
      "metadata": {
        "id": "eXNLu_-nIrJI"
      },
      "outputs": [],
      "source": [
        "from transformers import AutoTokenizer\n",
        "\n",
        "tokenizer = AutoTokenizer.from_pretrained(model_checkpoint, add_prefix_space=True)"
      ]
    },
    {
      "cell_type": "markdown",
      "metadata": {
        "id": "3eKP0d1PG0qj"
      },
      "source": [
        "* Verify that your choosen model support [Fast Tokenization]()\n",
        "* You can check which type of models have a fast tokenizer available and which don't on the [big table of models](https://huggingface.co/transformers/index.html#bigtable)."
      ]
    },
    {
      "cell_type": "code",
      "execution_count": 74,
      "metadata": {
        "id": "b2hJYbUyy07f"
      },
      "outputs": [],
      "source": [
        "# You can check which type of models have a fast tokenizer available and which don't on the big table of models.\n",
        "assert isinstance(tokenizer, transformers.PreTrainedTokenizerFast)"
      ]
    },
    {
      "cell_type": "code",
      "execution_count": 75,
      "metadata": {
        "colab": {
          "base_uri": "https://localhost:8080/"
        },
        "id": "a5hBlsrHIrJL",
        "outputId": "3a433690-35fa-4b1e-c036-d9807ae096a9"
      },
      "outputs": [
        {
          "output_type": "execute_result",
          "data": {
            "text/plain": [
              "{'input_ids': [0, 27, 3, 50032, 6, 3190, 1081, 746, 33116, 87, 2], 'attention_mask': [1, 1, 1, 1, 1, 1, 1, 1, 1, 1, 1]}"
            ]
          },
          "metadata": {},
          "execution_count": 75
        }
      ],
      "source": [
        "tokenizer(\"Hello, this is one sentence!\")"
      ]
    },
    {
      "cell_type": "code",
      "execution_count": 76,
      "metadata": {
        "colab": {
          "base_uri": "https://localhost:8080/"
        },
        "id": "LOIEhuqOy074",
        "outputId": "aa7b307a-a119-4be5-b6ff-366ee4e63ad3"
      },
      "outputs": [
        {
          "output_type": "execute_result",
          "data": {
            "text/plain": [
              "{'input_ids': [0, 27, 3, 50032, 27, 6, 3190, 1081, 746, 33116, 32824, 8628, 27507, 27, 5, 2], 'attention_mask': [1, 1, 1, 1, 1, 1, 1, 1, 1, 1, 1, 1, 1, 1, 1, 1]}"
            ]
          },
          "metadata": {},
          "execution_count": 76
        }
      ],
      "source": [
        "tokenizer([\"Hello\", \",\", \"this\", \"is\", \"one\", \"sentence\", \"split\", \"into\", \"words\", \".\"], is_split_into_words=True)"
      ]
    },
    {
      "cell_type": "markdown",
      "metadata": {
        "id": "7TYHsPvby074"
      },
      "source": [
        "> Note that transformers are often pretrained with subword tokenizers, meaning that even if your inputs have been split into words already, each of those words could be split again by the tokenizer. Let's look at an example of that:"
      ]
    },
    {
      "cell_type": "code",
      "execution_count": 77,
      "metadata": {
        "colab": {
          "base_uri": "https://localhost:8080/"
        },
        "id": "j6Tpkw_Ny074",
        "outputId": "33de5d05-5485-4349-bd33-c84c8566a3b6"
      },
      "outputs": [
        {
          "output_type": "stream",
          "name": "stdout",
          "text": [
            "===Subword Tokenisation Illustration===\n",
            "==================================================\n",
            "\n",
            "ORIGINAL TEXT\n",
            "['Mokgatlho', 'o', 'dirang', 'go', 'sireletsa', 'baphasalatsi', 'ba', 'mmino', 'le', 'go', 'ikopanya', 'le', 'puso', 'go', 'netefatsa', 'gore', 'badiragatsi', 'ba', 'amogela', 'tuelo', 'e', 'e', 'lekaneng', '.']\n",
            "--------------------\n",
            "\n",
            "TOKENS:\n",
            "['<s>', '▁', '<unk>', 'o', 'kgatlho', '▁o', '▁dirang', '▁go', '▁sireletsa', '▁baphasalatsi', '▁ba', '▁mmino', '▁le', '▁go', '▁ikopanya', '▁le', '▁puso', '▁go', '▁netefatsa', '▁gore', '▁badiragatsi', '▁ba', '▁amogela', '▁tuelo', '▁e', '▁e', '▁lekaneng', '▁', '.', '</s>']\n"
          ]
        }
      ],
      "source": [
        "print('===Subword Tokenisation Illustration===')\n",
        "example = datasets[\"train\"][4]\n",
        "print('=' * 50 + '\\n')\n",
        "print(\"ORIGINAL TEXT\")\n",
        "print(example[\"tokens\"])\n",
        "print('-' * 20   + '\\n')\n",
        "print('TOKENS:')\n",
        "tokenized_input = tokenizer(example[\"tokens\"], is_split_into_words=True)\n",
        "tokens = tokenizer.convert_ids_to_tokens(tokenized_input[\"input_ids\"])\n",
        "print(tokens)"
      ]
    },
    {
      "cell_type": "code",
      "execution_count": 77,
      "metadata": {
        "id": "bEMLXWhGy075"
      },
      "outputs": [],
      "source": []
    },
    {
      "cell_type": "markdown",
      "metadata": {
        "id": "GZGpHJ5uy075"
      },
      "source": [
        "* **Note** that the tokenizer returns outputs that have `word_ids`"
      ]
    },
    {
      "cell_type": "code",
      "execution_count": 78,
      "metadata": {
        "colab": {
          "base_uri": "https://localhost:8080/"
        },
        "id": "q9pmnvFly075",
        "outputId": "3ff77c1f-a538-41d6-e6c6-231d06a5b240"
      },
      "outputs": [
        {
          "output_type": "stream",
          "name": "stdout",
          "text": [
            "[None, 0, 0, 0, 0, 1, 2, 3, 4, 5, 6, 7, 8, 9, 10, 11, 12, 13, 14, 15, 16, 17, 18, 19, 20, 21, 22, 23, 23, None]\n"
          ]
        }
      ],
      "source": [
        "print(tokenized_input.word_ids())"
      ]
    },
    {
      "cell_type": "markdown",
      "metadata": {
        "id": "6e3sqxeqy075"
      },
      "source": [
        "* As we can see, it returns a list with the same number of elements as our processed input ids, mapping special tokens to `None` and all other tokens to their respective word. This way, we can align the labels with the processed input ids."
      ]
    },
    {
      "cell_type": "code",
      "execution_count": 79,
      "metadata": {
        "colab": {
          "base_uri": "https://localhost:8080/"
        },
        "id": "8Y5_aIHjy075",
        "outputId": "cd105a73-d3c1-4239-9656-e187fd7877b7"
      },
      "outputs": [
        {
          "output_type": "stream",
          "name": "stdout",
          "text": [
            "30 30\n"
          ]
        }
      ],
      "source": [
        "word_ids = tokenized_input.word_ids()\n",
        "aligned_labels = [-100 if i is None else example[f\"{task}_tags\"][i] for i in word_ids]\n",
        "print(len(aligned_labels), len(tokenized_input[\"input_ids\"]))"
      ]
    },
    {
      "cell_type": "markdown",
      "metadata": {
        "id": "h0ylIQgSy076"
      },
      "source": [
        "* Here we set the labels of all special tokens to -100 (the index that is ignored by PyTorch) and the labels of all other tokens to the label of the word they come from.\n",
        "  * Another strategy is to set the label only on the first token obtained from a given word, and give a label of -100 to the other subtokens from the same word.\n",
        "  * You can use the `label_all_tokens` flag below to control this behaviour"
      ]
    },
    {
      "cell_type": "code",
      "execution_count": 80,
      "metadata": {
        "id": "li3Nqxfzy076"
      },
      "outputs": [],
      "source": [
        "label_all_tokens = True"
      ]
    },
    {
      "cell_type": "markdown",
      "metadata": {
        "id": "2C0hcmp9IrJQ"
      },
      "source": [
        "**Define the preprocessing function**"
      ]
    },
    {
      "cell_type": "code",
      "execution_count": 81,
      "metadata": {
        "id": "vc0BSBLIIrJQ"
      },
      "outputs": [],
      "source": [
        "def tokenize_and_align_labels(examples):\n",
        "    \"\"\"\n",
        "    Tokenizes the input text and aligns the labels with the sub-word tokens.\n",
        "\n",
        "    Args:\n",
        "        examples: A dictionary of input examples, containing keys \"id\", \"tokens\" and \"{task}_tags\". For example\n",
        "        on a dataset with 3 examples, the dictionary will look something like this: {\"id\": [1, 2, 3], ....}\n",
        "\n",
        "    Returns:\n",
        "        A dictionary with keys \"input_ids\", \"attention_mask\", and \"labels\".\n",
        "    \"\"\"\n",
        "    tokenized_inputs = tokenizer(examples[\"tokens\"], truncation=True, is_split_into_words=True)\n",
        "    labels = []\n",
        "    for i, label in enumerate(examples[f\"{task}_tags\"]):\n",
        "        word_ids = tokenized_inputs.word_ids(batch_index=i)\n",
        "        previous_word_idx = None\n",
        "        label_ids = []\n",
        "        for word_idx in word_ids:\n",
        "            # Special tokens have a word id that is None. We set the label to -100 so they are automatically\n",
        "            # ignored in the loss function.\n",
        "            if word_idx is None:\n",
        "                label_ids.append(-100)\n",
        "            # We set the label for the first token of each word.\n",
        "            elif word_idx != previous_word_idx:\n",
        "                label_ids.append(label[word_idx])\n",
        "            # For the other tokens in a word, we set the label to either the current label or -100, depending on\n",
        "            # the label_all_tokens flag.\n",
        "            else:\n",
        "                label_ids.append(label[word_idx] if label_all_tokens else -100)\n",
        "            previous_word_idx = word_idx\n",
        "\n",
        "        labels.append(label_ids)\n",
        "\n",
        "    tokenized_inputs[\"labels\"] = labels\n",
        "    return tokenized_inputs"
      ]
    },
    {
      "cell_type": "code",
      "execution_count": 82,
      "metadata": {
        "colab": {
          "base_uri": "https://localhost:8080/"
        },
        "id": "-b70jh26IrJS",
        "outputId": "030dddcb-d91e-47d4-99a7-fe6360e19457"
      },
      "outputs": [
        {
          "output_type": "execute_result",
          "data": {
            "text/plain": [
              "{'input_ids': [[0, 27, 3, 68, 17758, 26, 1457, 4, 2516, 4, 53, 7, 3086, 245, 2152, 16436, 1765, 254, 76, 27, 5, 2], [0, 27, 3, 104426, 19816, 8, 1381, 13, 13, 162, 33, 57, 95, 28, 511, 8, 1457, 8, 27, 3, 105052, 26454, 7, 302, 1765, 254, 28, 27, 3, 64, 13125, 27, 3, 69131, 5735, 27, 5, 2], [0, 27, 3, 46, 10, 4, 27, 6, 28, 448, 27, 6, 11, 4, 389, 10, 357, 41, 13, 1028, 663, 453, 21, 27, 6, 27, 3, 83953, 106533, 9, 846, 13, 7318, 27, 3, 42173, 12456, 9, 99, 11, 11, 2513, 27, 6, 10, 1294, 252, 8, 76, 10, 5202, 663, 20, 4, 1074, 16, 6227, 18, 708, 26, 51, 9, 3993, 27, 5, 2], [0, 27, 3, 72, 11448, 13519, 17, 27, 3, 72, 105252, 17, 27, 3, 373, 368, 80200, 8, 1587, 17, 27, 3, 7712, 28350, 27, 6, 27, 3, 72, 13056, 27, 3, 49, 42618, 27, 3, 92295, 125441, 13, 23, 14356, 12, 836, 12, 12952, 7, 79, 1609, 41, 12, 802, 12306, 27, 5, 2], [0, 27, 3, 72, 105252, 13, 825, 7, 801, 56772, 12, 1587, 4, 7, 2231, 4, 313, 7, 347, 30, 9105, 12, 530, 2267, 11, 11, 939, 27, 5, 2]], 'attention_mask': [[1, 1, 1, 1, 1, 1, 1, 1, 1, 1, 1, 1, 1, 1, 1, 1, 1, 1, 1, 1, 1, 1], [1, 1, 1, 1, 1, 1, 1, 1, 1, 1, 1, 1, 1, 1, 1, 1, 1, 1, 1, 1, 1, 1, 1, 1, 1, 1, 1, 1, 1, 1, 1, 1, 1, 1, 1, 1, 1, 1], [1, 1, 1, 1, 1, 1, 1, 1, 1, 1, 1, 1, 1, 1, 1, 1, 1, 1, 1, 1, 1, 1, 1, 1, 1, 1, 1, 1, 1, 1, 1, 1, 1, 1, 1, 1, 1, 1, 1, 1, 1, 1, 1, 1, 1, 1, 1, 1, 1, 1, 1, 1, 1, 1, 1, 1, 1, 1, 1, 1, 1, 1, 1, 1, 1, 1], [1, 1, 1, 1, 1, 1, 1, 1, 1, 1, 1, 1, 1, 1, 1, 1, 1, 1, 1, 1, 1, 1, 1, 1, 1, 1, 1, 1, 1, 1, 1, 1, 1, 1, 1, 1, 1, 1, 1, 1, 1, 1, 1, 1, 1, 1, 1, 1, 1, 1, 1, 1, 1, 1, 1], [1, 1, 1, 1, 1, 1, 1, 1, 1, 1, 1, 1, 1, 1, 1, 1, 1, 1, 1, 1, 1, 1, 1, 1, 1, 1, 1, 1, 1, 1]], 'labels': [[-100, 6, 6, 6, 6, 5, 6, 5, 14, 1, 6, 14, 14, 6, 5, 14, 6, 5, 5, 11, 11, -100], [-100, 6, 6, 6, 6, 5, 6, 5, 9, 14, 14, 5, 2, 5, 6, 5, 6, 5, 10, 10, 10, 10, 14, 14, 6, 5, 5, 6, 6, 6, 6, 10, 10, 10, 10, 11, 11, -100], [-100, 9, 9, 3, 5, 5, 11, 11, 5, 6, 11, 11, 9, 5, 6, 1, 9, 4, 9, 14, 6, 5, 5, 11, 11, 10, 10, 10, 10, 1, 6, 9, 14, 10, 10, 10, 10, 1, 6, 5, 9, 14, 11, 11, 5, 14, 6, 5, 5, 5, 14, 6, 5, 5, 7, 5, 6, 1, 6, 5, 9, 1, 7, 11, 11, -100], [-100, 6, 6, 6, 6, 6, 5, 6, 6, 6, 6, 5, 6, 6, 6, 6, 6, 5, 6, 5, 10, 10, 10, 10, 11, 11, 6, 6, 6, 6, 10, 10, 10, 10, 10, 10, 10, 10, 5, 14, 6, 5, 6, 9, 14, 14, 14, 6, 4, 9, 14, 6, 11, 11, -100], [-100, 6, 6, 6, 6, 5, 14, 14, 14, 6, 5, 6, 4, 14, 14, 1, 6, 14, 14, 4, 6, 9, 14, 6, 5, 9, 14, 11, 11, -100]]}"
            ]
          },
          "metadata": {},
          "execution_count": 82
        }
      ],
      "source": [
        "# test on a sampled dataset\n",
        "tokenize_and_align_labels(datasets['train'][:5])"
      ]
    },
    {
      "cell_type": "markdown",
      "metadata": {
        "id": "zS-6iXTkIrJT"
      },
      "source": [
        "* To apply the preprocessing function on all the sentences (or pairs of sentences) in our dataset, we just use the `map` method of our `dataset` object we created earlier.\n",
        "\n",
        "* This will apply the function on all the elements of all the splits in `dataset`, so our training, validation and testing data will be preprocessed in one single command."
      ]
    },
    {
      "cell_type": "code",
      "execution_count": 83,
      "metadata": {
        "colab": {
          "base_uri": "https://localhost:8080/",
          "height": 113,
          "referenced_widgets": [
            "d19f725d35da4b72bd5a040882fa9926",
            "84f8e1d445464a4594a6f75eae53993a",
            "553812476e804272b4694bf6df39e41c",
            "f29ca7e636984118bedd1a828d5e7315",
            "6f5ab69c7c5c474f86624ebf57fc9258",
            "7e18cfb64709427aad50c8cdfb298e90",
            "05c41c7719104ecea2ff17241351eb3d",
            "a4f429d591594289baca53726a9f9229",
            "f1dac62028a3460584eb2e51ec5f8a8d",
            "f04b153322be4fda9069da3e343ba7e0",
            "d4a5de90b2694ef1ba930fe8e4d6fc5d",
            "2eaf67d3cf8d42749251cc8763518d69",
            "9aff2d31a9ab41a09d2d7f77c8ee7765",
            "59a92ce6d9564edbb7232ce7b2435f24",
            "70ccca92170b41348dc461b7b835b746",
            "6750c1ed56af441188ae431e7af4698d",
            "02d383809bbc463dbb569bdf96ff18da",
            "823116ce953a4fa7b3e0a9a813852cfe",
            "4da5fb665d4842a3a6fc26dc2886bf14",
            "d545299200da4865b109b47a3b4ba47e",
            "f8b1295cb4164f58b930b37a06d81834",
            "59b1cb19a622495a8a290c4c8d5b3b4e",
            "44d19519cf504470bf6630e6455090fd",
            "54a8c73dd5c54fda96bce7b241bfd017",
            "9011366a522c4ec394a3f0ec69857a43",
            "6d13aa1d2e8e4b98b9886e5aa790978c",
            "1ea8734cd1514873ab9ad51b44b59300",
            "5391f2a145284f988b2b608891da0cdb",
            "cde836c3878c4c9e889a762c71e5c993",
            "e0461ab6585f4cbaadeb3c818828c14b",
            "4996108ec1b942c1be360cdfa7b26645",
            "bc7b4129d1f642679d749638915ce553",
            "397199ea42674d628cbbe7b22d4d0337"
          ]
        },
        "id": "DDtsaJeVIrJT",
        "outputId": "dadd7555-c785-4ab2-dcf8-ea92f2ee43c2"
      },
      "outputs": [
        {
          "output_type": "display_data",
          "data": {
            "text/plain": [
              "Map:   0%|          | 0/754 [00:00<?, ? examples/s]"
            ],
            "application/vnd.jupyter.widget-view+json": {
              "version_major": 2,
              "version_minor": 0,
              "model_id": "d19f725d35da4b72bd5a040882fa9926"
            }
          },
          "metadata": {}
        },
        {
          "output_type": "display_data",
          "data": {
            "text/plain": [
              "Map:   0%|          | 0/150 [00:00<?, ? examples/s]"
            ],
            "application/vnd.jupyter.widget-view+json": {
              "version_major": 2,
              "version_minor": 0,
              "model_id": "2eaf67d3cf8d42749251cc8763518d69"
            }
          },
          "metadata": {}
        },
        {
          "output_type": "display_data",
          "data": {
            "text/plain": [
              "Map:   0%|          | 0/602 [00:00<?, ? examples/s]"
            ],
            "application/vnd.jupyter.widget-view+json": {
              "version_major": 2,
              "version_minor": 0,
              "model_id": "44d19519cf504470bf6630e6455090fd"
            }
          },
          "metadata": {}
        }
      ],
      "source": [
        "tokenized_datasets = datasets.map(tokenize_and_align_labels, batched=True)"
      ]
    },
    {
      "cell_type": "code",
      "execution_count": 83,
      "metadata": {
        "id": "XBBBmmtGKP_9"
      },
      "outputs": [],
      "source": []
    },
    {
      "cell_type": "markdown",
      "metadata": {
        "id": "545PP3o8IrJV"
      },
      "source": [
        "# Fine-tuning the Pre-trained model"
      ]
    },
    {
      "cell_type": "code",
      "execution_count": 84,
      "metadata": {
        "id": "kHmV0kSXV1E2"
      },
      "outputs": [],
      "source": [
        "from transformers import AutoModelForTokenClassification, TrainingArguments, Trainer"
      ]
    },
    {
      "cell_type": "code",
      "execution_count": 85,
      "metadata": {
        "colab": {
          "base_uri": "https://localhost:8080/"
        },
        "id": "TlqNaB8jIrJW",
        "outputId": "8389fb25-7fba-4477-de93-a005582d33b4"
      },
      "outputs": [
        {
          "output_type": "stream",
          "name": "stderr",
          "text": [
            "Some weights of XLMRobertaForTokenClassification were not initialized from the model checkpoint at dsfsi/zabantu-sot-ven-170m and are newly initialized: ['classifier.bias', 'classifier.weight']\n",
            "You should probably TRAIN this model on a down-stream task to be able to use it for predictions and inference.\n"
          ]
        }
      ],
      "source": [
        "model = AutoModelForTokenClassification.from_pretrained(model_checkpoint,\n",
        "                                                        num_labels=len(label_list))"
      ]
    },
    {
      "cell_type": "code",
      "execution_count": 86,
      "metadata": {
        "id": "Bliy8zgjIrJY"
      },
      "outputs": [],
      "source": [
        "model_name = model_checkpoint.split(\"/\")[-1]\n",
        "args = TrainingArguments(\n",
        "    trained_model_checkpoint,\n",
        "    evaluation_strategy = \"epoch\",\n",
        "    learning_rate=2e-5,\n",
        "    per_device_train_batch_size=batch_size,\n",
        "    per_device_eval_batch_size=batch_size,\n",
        "    num_train_epochs=epochs,\n",
        "    weight_decay=0.01,\n",
        "    push_to_hub=push_to_hub_enabled,\n",
        ")"
      ]
    },
    {
      "cell_type": "markdown",
      "metadata": {
        "id": "J1XfUS0jy077"
      },
      "source": [
        "* We will need a data collator that will batch our processed examples together whi0le applying padding to make them all the same size (each pad will be padded to the length of its longest example).\n",
        "\n",
        "* There is a data collator for this task in the Transformers library, that not only pads the inputs, but also the labels:"
      ]
    },
    {
      "cell_type": "code",
      "execution_count": 87,
      "metadata": {
        "id": "z4G8ynOSy078"
      },
      "outputs": [],
      "source": [
        "from transformers import DataCollatorForTokenClassification\n",
        "\n",
        "data_collator = DataCollatorForTokenClassification(tokenizer)"
      ]
    },
    {
      "cell_type": "markdown",
      "metadata": {
        "id": "RoAJXgjBy078"
      },
      "source": [
        "The last thing to define for our `Trainer` is how to compute the metrics from the predictions. Here we will load the [`seqeval`](https://github.com/chakki-works/seqeval) metric (which is commonly used to evaluate results for Token Classification tasks)"
      ]
    },
    {
      "cell_type": "code",
      "execution_count": 88,
      "metadata": {
        "id": "QD_XEKsIy078"
      },
      "outputs": [],
      "source": [
        "import evaluate\n",
        "\n",
        "metric = evaluate.load(\"seqeval\")"
      ]
    },
    {
      "cell_type": "markdown",
      "metadata": {
        "id": "BNl58javy078"
      },
      "source": [
        "This metric takes list of labels for the predictions and references:"
      ]
    },
    {
      "cell_type": "code",
      "execution_count": 89,
      "metadata": {
        "colab": {
          "base_uri": "https://localhost:8080/"
        },
        "id": "7oe0i6rey078",
        "outputId": "dfc3067c-a05f-42e0-90c9-c3b2487e376f"
      },
      "outputs": [
        {
          "output_type": "stream",
          "name": "stderr",
          "text": [
            "/usr/local/lib/python3.10/dist-packages/seqeval/metrics/sequence_labeling.py:171: UserWarning: , seems not to be NE tag.\n",
            "  warnings.warn('{} seems not to be NE tag.'.format(chunk))\n",
            "/usr/local/lib/python3.10/dist-packages/seqeval/metrics/sequence_labeling.py:171: UserWarning: ) seems not to be NE tag.\n",
            "  warnings.warn('{} seems not to be NE tag.'.format(chunk))\n",
            "/usr/local/lib/python3.10/dist-packages/seqeval/metrics/sequence_labeling.py:171: UserWarning: FW seems not to be NE tag.\n",
            "  warnings.warn('{} seems not to be NE tag.'.format(chunk))\n",
            "/usr/local/lib/python3.10/dist-packages/seqeval/metrics/sequence_labeling.py:171: UserWarning: ( seems not to be NE tag.\n",
            "  warnings.warn('{} seems not to be NE tag.'.format(chunk))\n",
            "/usr/local/lib/python3.10/dist-packages/seqeval/metrics/sequence_labeling.py:171: UserWarning: '' seems not to be NE tag.\n",
            "  warnings.warn('{} seems not to be NE tag.'.format(chunk))\n",
            "/usr/local/lib/python3.10/dist-packages/seqeval/metrics/sequence_labeling.py:171: UserWarning: `` seems not to be NE tag.\n",
            "  warnings.warn('{} seems not to be NE tag.'.format(chunk))\n",
            "/usr/local/lib/python3.10/dist-packages/seqeval/metrics/sequence_labeling.py:171: UserWarning: CD seems not to be NE tag.\n",
            "  warnings.warn('{} seems not to be NE tag.'.format(chunk))\n"
          ]
        },
        {
          "output_type": "execute_result",
          "data": {
            "text/plain": [
              "{\"'\": {'precision': 1.0, 'recall': 1.0, 'f1': 1.0, 'number': 1},\n",
              " 'D': {'precision': 1.0, 'recall': 1.0, 'f1': 1.0, 'number': 1},\n",
              " 'W': {'precision': 1.0, 'recall': 1.0, 'f1': 1.0, 'number': 5},\n",
              " '_': {'precision': 1.0, 'recall': 1.0, 'f1': 1.0, 'number': 5},\n",
              " '`': {'precision': 1.0, 'recall': 1.0, 'f1': 1.0, 'number': 2},\n",
              " 'overall_precision': 1.0,\n",
              " 'overall_recall': 1.0,\n",
              " 'overall_f1': 1.0,\n",
              " 'overall_accuracy': 1.0}"
            ]
          },
          "metadata": {},
          "execution_count": 89
        }
      ],
      "source": [
        "labels = [label_list[i] for i in example[f\"{task}_tags\"]]\n",
        "\n",
        "# In this case we are evaluating test labels only for illustration\n",
        "metric.compute(predictions=[labels], references=[labels])"
      ]
    },
    {
      "cell_type": "code",
      "execution_count": 90,
      "metadata": {
        "id": "UmvbnJ9JIrJd"
      },
      "outputs": [],
      "source": [
        "import numpy as np\n",
        "\n",
        "def compute_metrics(p: tuple) -> dict:\n",
        "    \"\"\"\n",
        "    Computes the evaluation metrics for the model.\n",
        "\n",
        "    Args:\n",
        "        p: Tuple containing:\n",
        "            - predictions (np.array of shape (batch_size, num_seq, vocab_size))\n",
        "            - labels (np.array of shape (batch_size, num_seq))\n",
        "\n",
        "    Returns:\n",
        "        A dictionary containing the evaluation metrics.\n",
        "    \"\"\"\n",
        "    predictions, labels = p\n",
        "    predictions = np.argmax(predictions, axis=2)\n",
        "\n",
        "    # Remove ignored index (special tokens)\n",
        "    true_predictions = [\n",
        "        [label_list[p] for (p, l) in zip(prediction, label) if l != -100]\n",
        "        for prediction, label in zip(predictions, labels)\n",
        "    ]\n",
        "    true_labels = [\n",
        "        [label_list[l] for (p, l) in zip(prediction, label) if l != -100]\n",
        "        for prediction, label in zip(predictions, labels)\n",
        "    ]\n",
        "\n",
        "    results = metric.compute(predictions=true_predictions, references=true_labels)\n",
        "    return {\n",
        "        \"precision\": results[\"overall_precision\"],\n",
        "        \"recall\": results[\"overall_recall\"],\n",
        "        \"f1\": results[\"overall_f1\"],\n",
        "        \"accuracy\": results[\"overall_accuracy\"],\n",
        "    }"
      ]
    },
    {
      "cell_type": "code",
      "execution_count": 91,
      "metadata": {
        "id": "imY1oC3SIrJf"
      },
      "outputs": [],
      "source": [
        "trainer = Trainer(\n",
        "    model,\n",
        "    args,\n",
        "    train_dataset=tokenized_datasets[\"train\"],\n",
        "    eval_dataset=tokenized_datasets[\"validation\"],\n",
        "    data_collator=data_collator,\n",
        "    tokenizer=tokenizer,\n",
        "    compute_metrics=compute_metrics\n",
        ")"
      ]
    },
    {
      "cell_type": "code",
      "execution_count": 92,
      "metadata": {
        "colab": {
          "base_uri": "https://localhost:8080/",
          "height": 571
        },
        "id": "4s0jHUlOy079",
        "outputId": "c1d4b431-10d2-43ea-ba0a-eaacd35ec4e8"
      },
      "outputs": [
        {
          "output_type": "display_data",
          "data": {
            "text/plain": [
              "<IPython.core.display.HTML object>"
            ],
            "text/html": [
              "\n",
              "    <div>\n",
              "      \n",
              "      <progress value='144' max='144' style='width:300px; height:20px; vertical-align: middle;'></progress>\n",
              "      [144/144 00:34, Epoch 3/3]\n",
              "    </div>\n",
              "    <table border=\"1\" class=\"dataframe\">\n",
              "  <thead>\n",
              " <tr style=\"text-align: left;\">\n",
              "      <th>Epoch</th>\n",
              "      <th>Training Loss</th>\n",
              "      <th>Validation Loss</th>\n",
              "      <th>Precision</th>\n",
              "      <th>Recall</th>\n",
              "      <th>F1</th>\n",
              "      <th>Accuracy</th>\n",
              "    </tr>\n",
              "  </thead>\n",
              "  <tbody>\n",
              "    <tr>\n",
              "      <td>1</td>\n",
              "      <td>No log</td>\n",
              "      <td>1.614271</td>\n",
              "      <td>0.452426</td>\n",
              "      <td>0.459687</td>\n",
              "      <td>0.456027</td>\n",
              "      <td>0.666784</td>\n",
              "    </tr>\n",
              "    <tr>\n",
              "      <td>2</td>\n",
              "      <td>No log</td>\n",
              "      <td>1.517323</td>\n",
              "      <td>0.533074</td>\n",
              "      <td>0.523500</td>\n",
              "      <td>0.528244</td>\n",
              "      <td>0.737771</td>\n",
              "    </tr>\n",
              "    <tr>\n",
              "      <td>3</td>\n",
              "      <td>No log</td>\n",
              "      <td>1.504857</td>\n",
              "      <td>0.546603</td>\n",
              "      <td>0.528850</td>\n",
              "      <td>0.537580</td>\n",
              "      <td>0.744129</td>\n",
              "    </tr>\n",
              "  </tbody>\n",
              "</table><p>"
            ]
          },
          "metadata": {}
        },
        {
          "output_type": "stream",
          "name": "stderr",
          "text": [
            "/usr/local/lib/python3.10/dist-packages/seqeval/metrics/sequence_labeling.py:171: UserWarning: EX seems not to be NE tag.\n",
            "  warnings.warn('{} seems not to be NE tag.'.format(chunk))\n",
            "/usr/local/lib/python3.10/dist-packages/seqeval/metrics/sequence_labeling.py:171: UserWarning: # seems not to be NE tag.\n",
            "  warnings.warn('{} seems not to be NE tag.'.format(chunk))\n",
            "/usr/local/lib/python3.10/dist-packages/seqeval/metrics/sequence_labeling.py:171: UserWarning: $ seems not to be NE tag.\n",
            "  warnings.warn('{} seems not to be NE tag.'.format(chunk))\n",
            "/usr/local/lib/python3.10/dist-packages/seqeval/metrics/sequence_labeling.py:171: UserWarning: CC seems not to be NE tag.\n",
            "  warnings.warn('{} seems not to be NE tag.'.format(chunk))\n",
            "/usr/local/lib/python3.10/dist-packages/seqeval/metrics/sequence_labeling.py:171: UserWarning: DT seems not to be NE tag.\n",
            "  warnings.warn('{} seems not to be NE tag.'.format(chunk))\n",
            "/usr/local/lib/python3.10/dist-packages/seqeval/metrics/sequence_labeling.py:171: UserWarning: \" seems not to be NE tag.\n",
            "  warnings.warn('{} seems not to be NE tag.'.format(chunk))\n",
            "/usr/local/lib/python3.10/dist-packages/seqeval/metrics/sequence_labeling.py:171: UserWarning: . seems not to be NE tag.\n",
            "  warnings.warn('{} seems not to be NE tag.'.format(chunk))\n",
            "/usr/local/lib/python3.10/dist-packages/seqeval/metrics/sequence_labeling.py:171: UserWarning: : seems not to be NE tag.\n",
            "  warnings.warn('{} seems not to be NE tag.'.format(chunk))\n",
            "/usr/local/lib/python3.10/dist-packages/seqeval/metrics/v1.py:57: UndefinedMetricWarning: Precision and F-score are ill-defined and being set to 0.0 in labels with no predicted samples. Use `zero_division` parameter to control this behavior.\n",
            "  _warn_prf(average, modifier, msg_start, len(result))\n",
            "/usr/local/lib/python3.10/dist-packages/seqeval/metrics/v1.py:57: UndefinedMetricWarning: Recall and F-score are ill-defined and being set to 0.0 in labels with no true samples. Use `zero_division` parameter to control this behavior.\n",
            "  _warn_prf(average, modifier, msg_start, len(result))\n"
          ]
        },
        {
          "output_type": "execute_result",
          "data": {
            "text/plain": [
              "TrainOutput(global_step=144, training_loss=0.9503665500217013, metrics={'train_runtime': 34.7319, 'train_samples_per_second': 65.127, 'train_steps_per_second': 4.146, 'total_flos': 68063593149180.0, 'train_loss': 0.9503665500217013, 'epoch': 3.0})"
            ]
          },
          "metadata": {},
          "execution_count": 92
        }
      ],
      "source": [
        "trainer.train()"
      ]
    },
    {
      "cell_type": "code",
      "execution_count": 92,
      "metadata": {
        "id": "MNM2q9pVXs1T"
      },
      "outputs": [],
      "source": []
    },
    {
      "cell_type": "markdown",
      "metadata": {
        "id": "YLuB9mCpNz4y"
      },
      "source": [
        "# Evaluate the Fine-tuned Model"
      ]
    },
    {
      "cell_type": "code",
      "execution_count": 93,
      "metadata": {
        "id": "UOUcBkX8IrJi",
        "colab": {
          "base_uri": "https://localhost:8080/",
          "height": 193
        },
        "outputId": "c62ef4d1-b2a6-493b-8d82-70203dea31ce"
      },
      "outputs": [
        {
          "output_type": "display_data",
          "data": {
            "text/plain": [
              "<IPython.core.display.HTML object>"
            ],
            "text/html": [
              "\n",
              "    <div>\n",
              "      \n",
              "      <progress value='10' max='10' style='width:300px; height:20px; vertical-align: middle;'></progress>\n",
              "      [10/10 00:00]\n",
              "    </div>\n",
              "    "
            ]
          },
          "metadata": {}
        },
        {
          "output_type": "execute_result",
          "data": {
            "text/plain": [
              "{'eval_loss': 1.5048571825027466,\n",
              " 'eval_precision': 0.5466034755134281,\n",
              " 'eval_recall': 0.5288498280473825,\n",
              " 'eval_f1': 0.5375801126432316,\n",
              " 'eval_accuracy': 0.7441285537700866,\n",
              " 'eval_runtime': 0.8442,\n",
              " 'eval_samples_per_second': 177.685,\n",
              " 'eval_steps_per_second': 11.846,\n",
              " 'epoch': 3.0}"
            ]
          },
          "metadata": {},
          "execution_count": 93
        }
      ],
      "source": [
        "trainer.evaluate()"
      ]
    },
    {
      "cell_type": "markdown",
      "metadata": {
        "id": "bnpvy8yQy079"
      },
      "source": [
        "* Or, get detailed evaluation scores"
      ]
    },
    {
      "cell_type": "code",
      "execution_count": 94,
      "metadata": {
        "id": "eRmMnoBsy079",
        "colab": {
          "base_uri": "https://localhost:8080/",
          "height": 486
        },
        "outputId": "7afe8042-de3b-48a9-ef52-9730abb2657d"
      },
      "outputs": [
        {
          "output_type": "display_data",
          "data": {
            "text/plain": [
              "<IPython.core.display.HTML object>"
            ],
            "text/html": []
          },
          "metadata": {}
        },
        {
          "output_type": "execute_result",
          "data": {
            "text/plain": [
              "{\"'\": {'precision': 0.7376237623762376,\n",
              "  'recall': 0.7412935323383084,\n",
              "  'f1': 0.7394540942928038,\n",
              "  'number': 201},\n",
              " 'C': {'precision': 0.5491803278688525,\n",
              "  'recall': 0.7976190476190477,\n",
              "  'f1': 0.6504854368932039,\n",
              "  'number': 168},\n",
              " 'D': {'precision': 1.0, 'recall': 1.0, 'f1': 1.0, 'number': 304},\n",
              " 'T': {'precision': 0.5,\n",
              "  'recall': 0.07692307692307693,\n",
              "  'f1': 0.13333333333333336,\n",
              "  'number': 13},\n",
              " 'W': {'precision': 0.0, 'recall': 0.0, 'f1': 0.0, 'number': 0},\n",
              " 'X': {'precision': 0.0, 'recall': 0.0, 'f1': 0.0, 'number': 755},\n",
              " '_': {'precision': 0.6015037593984962,\n",
              "  'recall': 0.6349206349206349,\n",
              "  'f1': 0.6177606177606176,\n",
              "  'number': 882},\n",
              " '`': {'precision': 0.7195121951219512,\n",
              "  'recall': 0.8027210884353742,\n",
              "  'f1': 0.7588424437299036,\n",
              "  'number': 294},\n",
              " 'overall_precision': 0.5466034755134281,\n",
              " 'overall_recall': 0.5288498280473825,\n",
              " 'overall_f1': 0.5375801126432316,\n",
              " 'overall_accuracy': 0.7441285537700866}"
            ]
          },
          "metadata": {},
          "execution_count": 94
        }
      ],
      "source": [
        "predictions, labels, _ = trainer.predict(tokenized_datasets[\"validation\"])\n",
        "predictions = np.argmax(predictions, axis=2)\n",
        "\n",
        "# Remove ignored index (special tokens)\n",
        "true_predictions = [\n",
        "    [label_list[p] for (p, l) in zip(prediction, label) if l != -100]\n",
        "    for prediction, label in zip(predictions, labels)\n",
        "]\n",
        "true_labels = [\n",
        "    [label_list[l] for (p, l) in zip(prediction, label) if l != -100]\n",
        "    for prediction, label in zip(predictions, labels)\n",
        "]\n",
        "\n",
        "results = metric.compute(predictions=true_predictions, references=true_labels)\n",
        "results"
      ]
    },
    {
      "cell_type": "code",
      "execution_count": 94,
      "metadata": {
        "id": "HmHyyT6BOqUa"
      },
      "outputs": [],
      "source": []
    },
    {
      "cell_type": "markdown",
      "metadata": {
        "id": "j5f_jGzSN8ea"
      },
      "source": [
        "# (Optional) Upload your final model(s) to HuggingFace"
      ]
    },
    {
      "cell_type": "code",
      "execution_count": 95,
      "metadata": {
        "id": "aOVpT9nIOInK"
      },
      "outputs": [],
      "source": [
        "## You might want to uncomment this if git-lfs is not instaled yet\n",
        "# !apt install git-lfs"
      ]
    },
    {
      "cell_type": "code",
      "execution_count": 96,
      "metadata": {
        "id": "MHJQ5sv9y07-",
        "colab": {
          "base_uri": "https://localhost:8080/"
        },
        "outputId": "4b4febb7-6793-433c-907d-31de35676820"
      },
      "outputs": [
        {
          "output_type": "stream",
          "name": "stderr",
          "text": [
            "Some non-default generation parameters are set in the model config. These should go into a GenerationConfig file (https://huggingface.co/docs/transformers/generation_strategies#save-a-custom-decoding-strategy-with-your-model) instead. This warning will be raised to an exception in v4.41.\n",
            "Non-default generation parameters: {'max_length': 512}\n"
          ]
        }
      ],
      "source": [
        "if push_to_hub_enabled:\n",
        "  trainer.push_to_hub()\n",
        "else:\n",
        "  trainer.save_model(trained_model_checkpoint)"
      ]
    },
    {
      "cell_type": "code",
      "execution_count": 96,
      "metadata": {
        "id": "kfVcCzbeOTni"
      },
      "outputs": [],
      "source": []
    },
    {
      "cell_type": "markdown",
      "metadata": {
        "id": "nkvchbajOXtq"
      },
      "source": [
        "**Example usage of your trained model using Huggingface pipelines**"
      ]
    },
    {
      "cell_type": "code",
      "execution_count": 97,
      "metadata": {
        "id": "A2-Z07D_Oi5i"
      },
      "outputs": [],
      "source": [
        "from transformers import pipeline"
      ]
    },
    {
      "cell_type": "code",
      "execution_count": 98,
      "metadata": {
        "id": "aXIEWGNEPbYy"
      },
      "outputs": [],
      "source": [
        "pipe = pipeline('token-classification', model=trained_model_checkpoint_hub if push_to_hub_enabled else trained_model_checkpoint)"
      ]
    },
    {
      "cell_type": "code",
      "execution_count": 99,
      "metadata": {
        "id": "chMGXR84y07-",
        "colab": {
          "base_uri": "https://localhost:8080/"
        },
        "outputId": "00e37f30-b985-47be-843c-030e0783f4cf"
      },
      "outputs": [
        {
          "output_type": "execute_result",
          "data": {
            "text/plain": [
              "[{'entity': 'LABEL_6',\n",
              "  'score': 0.96951765,\n",
              "  'index': 1,\n",
              "  'word': '▁',\n",
              "  'start': 0,\n",
              "  'end': 1},\n",
              " {'entity': 'LABEL_6',\n",
              "  'score': 0.973945,\n",
              "  'index': 2,\n",
              "  'word': 'L',\n",
              "  'start': 0,\n",
              "  'end': 1},\n",
              " {'entity': 'LABEL_6',\n",
              "  'score': 0.98739934,\n",
              "  'index': 3,\n",
              "  'word': 'i',\n",
              "  'start': 1,\n",
              "  'end': 2},\n",
              " {'entity': 'LABEL_6',\n",
              "  'score': 0.97856915,\n",
              "  'index': 4,\n",
              "  'word': 'khetho',\n",
              "  'start': 2,\n",
              "  'end': 8},\n",
              " {'entity': 'LABEL_5',\n",
              "  'score': 0.9813167,\n",
              "  'index': 5,\n",
              "  'word': '▁tsa',\n",
              "  'start': 8,\n",
              "  'end': 12},\n",
              " {'entity': 'LABEL_10',\n",
              "  'score': 0.6324977,\n",
              "  'index': 6,\n",
              "  'word': '▁',\n",
              "  'start': 12,\n",
              "  'end': 13},\n",
              " {'entity': 'LABEL_10',\n",
              "  'score': 0.7438717,\n",
              "  'index': 7,\n",
              "  'word': 'A',\n",
              "  'start': 13,\n",
              "  'end': 14},\n",
              " {'entity': 'LABEL_10',\n",
              "  'score': 0.8859404,\n",
              "  'index': 8,\n",
              "  'word': 'frika',\n",
              "  'start': 14,\n",
              "  'end': 19},\n",
              " {'entity': 'LABEL_10',\n",
              "  'score': 0.6016305,\n",
              "  'index': 9,\n",
              "  'word': '▁',\n",
              "  'start': 19,\n",
              "  'end': 20},\n",
              " {'entity': 'LABEL_6',\n",
              "  'score': 0.577947,\n",
              "  'index': 10,\n",
              "  'word': 'B',\n",
              "  'start': 20,\n",
              "  'end': 21},\n",
              " {'entity': 'LABEL_6',\n",
              "  'score': 0.6282848,\n",
              "  'index': 11,\n",
              "  'word': 'oro',\n",
              "  'start': 21,\n",
              "  'end': 24},\n",
              " {'entity': 'LABEL_6',\n",
              "  'score': 0.68534553,\n",
              "  'index': 12,\n",
              "  'word': 'a',\n",
              "  'start': 24,\n",
              "  'end': 25},\n",
              " {'entity': 'LABEL_5',\n",
              "  'score': 0.97435004,\n",
              "  'index': 13,\n",
              "  'word': '▁tsa',\n",
              "  'start': 25,\n",
              "  'end': 29},\n",
              " {'entity': 'LABEL_6',\n",
              "  'score': 0.91476905,\n",
              "  'index': 14,\n",
              "  'word': '▁2024',\n",
              "  'start': 29,\n",
              "  'end': 34},\n",
              " {'entity': 'LABEL_5',\n",
              "  'score': 0.8911706,\n",
              "  'index': 15,\n",
              "  'word': '▁li',\n",
              "  'start': 34,\n",
              "  'end': 37},\n",
              " {'entity': 'LABEL_14',\n",
              "  'score': 0.51218516,\n",
              "  'index': 16,\n",
              "  'word': '▁tla',\n",
              "  'start': 37,\n",
              "  'end': 41},\n",
              " {'entity': 'LABEL_14',\n",
              "  'score': 0.98033994,\n",
              "  'index': 17,\n",
              "  'word': '▁lumella',\n",
              "  'start': 41,\n",
              "  'end': 49},\n",
              " {'entity': 'LABEL_6',\n",
              "  'score': 0.9551017,\n",
              "  'index': 18,\n",
              "  'word': '▁mopresidente',\n",
              "  'start': 49,\n",
              "  'end': 62},\n",
              " {'entity': 'LABEL_5',\n",
              "  'score': 0.7723896,\n",
              "  'index': 19,\n",
              "  'word': '▁oa',\n",
              "  'start': 62,\n",
              "  'end': 65},\n",
              " {'entity': 'LABEL_6',\n",
              "  'score': 0.92733,\n",
              "  'index': 20,\n",
              "  'word': '▁mehleng',\n",
              "  'start': 65,\n",
              "  'end': 73},\n",
              " {'entity': 'LABEL_10',\n",
              "  'score': 0.69448394,\n",
              "  'index': 21,\n",
              "  'word': '▁',\n",
              "  'start': 73,\n",
              "  'end': 74},\n",
              " {'entity': 'LABEL_10',\n",
              "  'score': 0.8045548,\n",
              "  'index': 22,\n",
              "  'word': 'J',\n",
              "  'start': 74,\n",
              "  'end': 75},\n",
              " {'entity': 'LABEL_10',\n",
              "  'score': 0.78568274,\n",
              "  'index': 23,\n",
              "  'word': 'a',\n",
              "  'start': 75,\n",
              "  'end': 76},\n",
              " {'entity': 'LABEL_10',\n",
              "  'score': 0.8970589,\n",
              "  'index': 24,\n",
              "  'word': 'co',\n",
              "  'start': 76,\n",
              "  'end': 78},\n",
              " {'entity': 'LABEL_10',\n",
              "  'score': 0.8518814,\n",
              "  'index': 25,\n",
              "  'word': 'b',\n",
              "  'start': 78,\n",
              "  'end': 79},\n",
              " {'entity': 'LABEL_10',\n",
              "  'score': 0.85159814,\n",
              "  'index': 26,\n",
              "  'word': '▁',\n",
              "  'start': 79,\n",
              "  'end': 80},\n",
              " {'entity': 'LABEL_10',\n",
              "  'score': 0.7760524,\n",
              "  'index': 27,\n",
              "  'word': 'Z',\n",
              "  'start': 80,\n",
              "  'end': 81},\n",
              " {'entity': 'LABEL_10',\n",
              "  'score': 0.8783475,\n",
              "  'index': 28,\n",
              "  'word': 'uma',\n",
              "  'start': 81,\n",
              "  'end': 84},\n",
              " {'entity': 'LABEL_14',\n",
              "  'score': 0.34756187,\n",
              "  'index': 29,\n",
              "  'word': '▁ho',\n",
              "  'start': 84,\n",
              "  'end': 87},\n",
              " {'entity': 'LABEL_14',\n",
              "  'score': 0.9815237,\n",
              "  'index': 30,\n",
              "  'word': '▁nka',\n",
              "  'start': 87,\n",
              "  'end': 91},\n",
              " {'entity': 'LABEL_6',\n",
              "  'score': 0.9064056,\n",
              "  'index': 31,\n",
              "  'word': '▁karolo',\n",
              "  'start': 91,\n",
              "  'end': 98}]"
            ]
          },
          "metadata": {},
          "execution_count": 99
        }
      ],
      "source": [
        "# From Google Translate: The elections in south africa for 2024 will allow former president Jacob Zuma to take part\n",
        "\n",
        "pipe(\"Likhetho tsa Afrika Boroa tsa 2024 li tla lumella mopresidente oa mehleng Jacob Zuma ho nka karolo\")"
      ]
    },
    {
      "cell_type": "code",
      "execution_count": 99,
      "metadata": {
        "id": "u80xSxPF6c9l"
      },
      "outputs": [],
      "source": []
    },
    {
      "cell_type": "code",
      "source": [],
      "metadata": {
        "id": "cV0BueCAfnD3"
      },
      "execution_count": 99,
      "outputs": []
    }
  ],
  "metadata": {
    "colab": {
      "provenance": [],
      "gpuType": "T4",
      "include_colab_link": true
    },
    "kernelspec": {
      "display_name": "default:Python",
      "language": "python",
      "name": "conda-env-default-py"
    },
    "language_info": {
      "codemirror_mode": {
        "name": "ipython",
        "version": 3
      },
      "file_extension": ".py",
      "mimetype": "text/x-python",
      "name": "python",
      "nbconvert_exporter": "python",
      "pygments_lexer": "ipython3",
      "version": "3.9.16"
    },
    "widgets": {
      "application/vnd.jupyter.widget-state+json": {
        "dd4d05c3536f4a49845d716362433a3d": {
          "model_module": "@jupyter-widgets/controls",
          "model_name": "HBoxModel",
          "model_module_version": "1.5.0",
          "state": {
            "_dom_classes": [],
            "_model_module": "@jupyter-widgets/controls",
            "_model_module_version": "1.5.0",
            "_model_name": "HBoxModel",
            "_view_count": null,
            "_view_module": "@jupyter-widgets/controls",
            "_view_module_version": "1.5.0",
            "_view_name": "HBoxView",
            "box_style": "",
            "children": [
              "IPY_MODEL_20cdb2ce12e94aea92d4170f3ca94b76",
              "IPY_MODEL_1d2a3648e28741d3a38c28e0f5d814cc",
              "IPY_MODEL_a2ff9eb58b0d4021b11fe83ea5f17ebc"
            ],
            "layout": "IPY_MODEL_de6317841eeb4905ab75197f97b9643b"
          }
        },
        "20cdb2ce12e94aea92d4170f3ca94b76": {
          "model_module": "@jupyter-widgets/controls",
          "model_name": "HTMLModel",
          "model_module_version": "1.5.0",
          "state": {
            "_dom_classes": [],
            "_model_module": "@jupyter-widgets/controls",
            "_model_module_version": "1.5.0",
            "_model_name": "HTMLModel",
            "_view_count": null,
            "_view_module": "@jupyter-widgets/controls",
            "_view_module_version": "1.5.0",
            "_view_name": "HTMLView",
            "description": "",
            "description_tooltip": null,
            "layout": "IPY_MODEL_e84d1d76fd15454a8d3707c6064cff48",
            "placeholder": "​",
            "style": "IPY_MODEL_9e0c6f3fdd5b472880e65db283beff06",
            "value": "Casting the dataset: 100%"
          }
        },
        "1d2a3648e28741d3a38c28e0f5d814cc": {
          "model_module": "@jupyter-widgets/controls",
          "model_name": "FloatProgressModel",
          "model_module_version": "1.5.0",
          "state": {
            "_dom_classes": [],
            "_model_module": "@jupyter-widgets/controls",
            "_model_module_version": "1.5.0",
            "_model_name": "FloatProgressModel",
            "_view_count": null,
            "_view_module": "@jupyter-widgets/controls",
            "_view_module_version": "1.5.0",
            "_view_name": "ProgressView",
            "bar_style": "success",
            "description": "",
            "description_tooltip": null,
            "layout": "IPY_MODEL_995ca0fba9264edd9ce7df46b33e48e5",
            "max": 754,
            "min": 0,
            "orientation": "horizontal",
            "style": "IPY_MODEL_528179f477f1484ea36cb274fc78128d",
            "value": 754
          }
        },
        "a2ff9eb58b0d4021b11fe83ea5f17ebc": {
          "model_module": "@jupyter-widgets/controls",
          "model_name": "HTMLModel",
          "model_module_version": "1.5.0",
          "state": {
            "_dom_classes": [],
            "_model_module": "@jupyter-widgets/controls",
            "_model_module_version": "1.5.0",
            "_model_name": "HTMLModel",
            "_view_count": null,
            "_view_module": "@jupyter-widgets/controls",
            "_view_module_version": "1.5.0",
            "_view_name": "HTMLView",
            "description": "",
            "description_tooltip": null,
            "layout": "IPY_MODEL_11ab3057e7ee4b98b4f40ac047a08abf",
            "placeholder": "​",
            "style": "IPY_MODEL_83a5ab74fbd9487eb02b43f1ab2217f6",
            "value": " 754/754 [00:00&lt;00:00, 27131.06 examples/s]"
          }
        },
        "de6317841eeb4905ab75197f97b9643b": {
          "model_module": "@jupyter-widgets/base",
          "model_name": "LayoutModel",
          "model_module_version": "1.2.0",
          "state": {
            "_model_module": "@jupyter-widgets/base",
            "_model_module_version": "1.2.0",
            "_model_name": "LayoutModel",
            "_view_count": null,
            "_view_module": "@jupyter-widgets/base",
            "_view_module_version": "1.2.0",
            "_view_name": "LayoutView",
            "align_content": null,
            "align_items": null,
            "align_self": null,
            "border": null,
            "bottom": null,
            "display": null,
            "flex": null,
            "flex_flow": null,
            "grid_area": null,
            "grid_auto_columns": null,
            "grid_auto_flow": null,
            "grid_auto_rows": null,
            "grid_column": null,
            "grid_gap": null,
            "grid_row": null,
            "grid_template_areas": null,
            "grid_template_columns": null,
            "grid_template_rows": null,
            "height": null,
            "justify_content": null,
            "justify_items": null,
            "left": null,
            "margin": null,
            "max_height": null,
            "max_width": null,
            "min_height": null,
            "min_width": null,
            "object_fit": null,
            "object_position": null,
            "order": null,
            "overflow": null,
            "overflow_x": null,
            "overflow_y": null,
            "padding": null,
            "right": null,
            "top": null,
            "visibility": null,
            "width": null
          }
        },
        "e84d1d76fd15454a8d3707c6064cff48": {
          "model_module": "@jupyter-widgets/base",
          "model_name": "LayoutModel",
          "model_module_version": "1.2.0",
          "state": {
            "_model_module": "@jupyter-widgets/base",
            "_model_module_version": "1.2.0",
            "_model_name": "LayoutModel",
            "_view_count": null,
            "_view_module": "@jupyter-widgets/base",
            "_view_module_version": "1.2.0",
            "_view_name": "LayoutView",
            "align_content": null,
            "align_items": null,
            "align_self": null,
            "border": null,
            "bottom": null,
            "display": null,
            "flex": null,
            "flex_flow": null,
            "grid_area": null,
            "grid_auto_columns": null,
            "grid_auto_flow": null,
            "grid_auto_rows": null,
            "grid_column": null,
            "grid_gap": null,
            "grid_row": null,
            "grid_template_areas": null,
            "grid_template_columns": null,
            "grid_template_rows": null,
            "height": null,
            "justify_content": null,
            "justify_items": null,
            "left": null,
            "margin": null,
            "max_height": null,
            "max_width": null,
            "min_height": null,
            "min_width": null,
            "object_fit": null,
            "object_position": null,
            "order": null,
            "overflow": null,
            "overflow_x": null,
            "overflow_y": null,
            "padding": null,
            "right": null,
            "top": null,
            "visibility": null,
            "width": null
          }
        },
        "9e0c6f3fdd5b472880e65db283beff06": {
          "model_module": "@jupyter-widgets/controls",
          "model_name": "DescriptionStyleModel",
          "model_module_version": "1.5.0",
          "state": {
            "_model_module": "@jupyter-widgets/controls",
            "_model_module_version": "1.5.0",
            "_model_name": "DescriptionStyleModel",
            "_view_count": null,
            "_view_module": "@jupyter-widgets/base",
            "_view_module_version": "1.2.0",
            "_view_name": "StyleView",
            "description_width": ""
          }
        },
        "995ca0fba9264edd9ce7df46b33e48e5": {
          "model_module": "@jupyter-widgets/base",
          "model_name": "LayoutModel",
          "model_module_version": "1.2.0",
          "state": {
            "_model_module": "@jupyter-widgets/base",
            "_model_module_version": "1.2.0",
            "_model_name": "LayoutModel",
            "_view_count": null,
            "_view_module": "@jupyter-widgets/base",
            "_view_module_version": "1.2.0",
            "_view_name": "LayoutView",
            "align_content": null,
            "align_items": null,
            "align_self": null,
            "border": null,
            "bottom": null,
            "display": null,
            "flex": null,
            "flex_flow": null,
            "grid_area": null,
            "grid_auto_columns": null,
            "grid_auto_flow": null,
            "grid_auto_rows": null,
            "grid_column": null,
            "grid_gap": null,
            "grid_row": null,
            "grid_template_areas": null,
            "grid_template_columns": null,
            "grid_template_rows": null,
            "height": null,
            "justify_content": null,
            "justify_items": null,
            "left": null,
            "margin": null,
            "max_height": null,
            "max_width": null,
            "min_height": null,
            "min_width": null,
            "object_fit": null,
            "object_position": null,
            "order": null,
            "overflow": null,
            "overflow_x": null,
            "overflow_y": null,
            "padding": null,
            "right": null,
            "top": null,
            "visibility": null,
            "width": null
          }
        },
        "528179f477f1484ea36cb274fc78128d": {
          "model_module": "@jupyter-widgets/controls",
          "model_name": "ProgressStyleModel",
          "model_module_version": "1.5.0",
          "state": {
            "_model_module": "@jupyter-widgets/controls",
            "_model_module_version": "1.5.0",
            "_model_name": "ProgressStyleModel",
            "_view_count": null,
            "_view_module": "@jupyter-widgets/base",
            "_view_module_version": "1.2.0",
            "_view_name": "StyleView",
            "bar_color": null,
            "description_width": ""
          }
        },
        "11ab3057e7ee4b98b4f40ac047a08abf": {
          "model_module": "@jupyter-widgets/base",
          "model_name": "LayoutModel",
          "model_module_version": "1.2.0",
          "state": {
            "_model_module": "@jupyter-widgets/base",
            "_model_module_version": "1.2.0",
            "_model_name": "LayoutModel",
            "_view_count": null,
            "_view_module": "@jupyter-widgets/base",
            "_view_module_version": "1.2.0",
            "_view_name": "LayoutView",
            "align_content": null,
            "align_items": null,
            "align_self": null,
            "border": null,
            "bottom": null,
            "display": null,
            "flex": null,
            "flex_flow": null,
            "grid_area": null,
            "grid_auto_columns": null,
            "grid_auto_flow": null,
            "grid_auto_rows": null,
            "grid_column": null,
            "grid_gap": null,
            "grid_row": null,
            "grid_template_areas": null,
            "grid_template_columns": null,
            "grid_template_rows": null,
            "height": null,
            "justify_content": null,
            "justify_items": null,
            "left": null,
            "margin": null,
            "max_height": null,
            "max_width": null,
            "min_height": null,
            "min_width": null,
            "object_fit": null,
            "object_position": null,
            "order": null,
            "overflow": null,
            "overflow_x": null,
            "overflow_y": null,
            "padding": null,
            "right": null,
            "top": null,
            "visibility": null,
            "width": null
          }
        },
        "83a5ab74fbd9487eb02b43f1ab2217f6": {
          "model_module": "@jupyter-widgets/controls",
          "model_name": "DescriptionStyleModel",
          "model_module_version": "1.5.0",
          "state": {
            "_model_module": "@jupyter-widgets/controls",
            "_model_module_version": "1.5.0",
            "_model_name": "DescriptionStyleModel",
            "_view_count": null,
            "_view_module": "@jupyter-widgets/base",
            "_view_module_version": "1.2.0",
            "_view_name": "StyleView",
            "description_width": ""
          }
        },
        "9bcfca6553864d7b81ec2e587f781039": {
          "model_module": "@jupyter-widgets/controls",
          "model_name": "HBoxModel",
          "model_module_version": "1.5.0",
          "state": {
            "_dom_classes": [],
            "_model_module": "@jupyter-widgets/controls",
            "_model_module_version": "1.5.0",
            "_model_name": "HBoxModel",
            "_view_count": null,
            "_view_module": "@jupyter-widgets/controls",
            "_view_module_version": "1.5.0",
            "_view_name": "HBoxView",
            "box_style": "",
            "children": [
              "IPY_MODEL_a8a83188c2eb4f2697c9ea84906ff8b6",
              "IPY_MODEL_3d2dcdae45744a36bc61b2d051827d69",
              "IPY_MODEL_02c4ff044e3d400fac8c05f7408bcb18"
            ],
            "layout": "IPY_MODEL_a03c104d275142bcb698f4391cea8681"
          }
        },
        "a8a83188c2eb4f2697c9ea84906ff8b6": {
          "model_module": "@jupyter-widgets/controls",
          "model_name": "HTMLModel",
          "model_module_version": "1.5.0",
          "state": {
            "_dom_classes": [],
            "_model_module": "@jupyter-widgets/controls",
            "_model_module_version": "1.5.0",
            "_model_name": "HTMLModel",
            "_view_count": null,
            "_view_module": "@jupyter-widgets/controls",
            "_view_module_version": "1.5.0",
            "_view_name": "HTMLView",
            "description": "",
            "description_tooltip": null,
            "layout": "IPY_MODEL_b90f579ae0fd4df8ab0197e3f6d7d26f",
            "placeholder": "​",
            "style": "IPY_MODEL_c88a781d674e40f0a731e470b4371cc7",
            "value": "Casting the dataset: 100%"
          }
        },
        "3d2dcdae45744a36bc61b2d051827d69": {
          "model_module": "@jupyter-widgets/controls",
          "model_name": "FloatProgressModel",
          "model_module_version": "1.5.0",
          "state": {
            "_dom_classes": [],
            "_model_module": "@jupyter-widgets/controls",
            "_model_module_version": "1.5.0",
            "_model_name": "FloatProgressModel",
            "_view_count": null,
            "_view_module": "@jupyter-widgets/controls",
            "_view_module_version": "1.5.0",
            "_view_name": "ProgressView",
            "bar_style": "success",
            "description": "",
            "description_tooltip": null,
            "layout": "IPY_MODEL_823fc1dc5d5b40b1be2b1a376ce039f0",
            "max": 150,
            "min": 0,
            "orientation": "horizontal",
            "style": "IPY_MODEL_fe8f2da660f34ab990f94457b70b1b6a",
            "value": 150
          }
        },
        "02c4ff044e3d400fac8c05f7408bcb18": {
          "model_module": "@jupyter-widgets/controls",
          "model_name": "HTMLModel",
          "model_module_version": "1.5.0",
          "state": {
            "_dom_classes": [],
            "_model_module": "@jupyter-widgets/controls",
            "_model_module_version": "1.5.0",
            "_model_name": "HTMLModel",
            "_view_count": null,
            "_view_module": "@jupyter-widgets/controls",
            "_view_module_version": "1.5.0",
            "_view_name": "HTMLView",
            "description": "",
            "description_tooltip": null,
            "layout": "IPY_MODEL_ae9f03e002db48d4933d1d56455f28fd",
            "placeholder": "​",
            "style": "IPY_MODEL_2840020468664765b461a9a2e6b094c0",
            "value": " 150/150 [00:00&lt;00:00, 6988.64 examples/s]"
          }
        },
        "a03c104d275142bcb698f4391cea8681": {
          "model_module": "@jupyter-widgets/base",
          "model_name": "LayoutModel",
          "model_module_version": "1.2.0",
          "state": {
            "_model_module": "@jupyter-widgets/base",
            "_model_module_version": "1.2.0",
            "_model_name": "LayoutModel",
            "_view_count": null,
            "_view_module": "@jupyter-widgets/base",
            "_view_module_version": "1.2.0",
            "_view_name": "LayoutView",
            "align_content": null,
            "align_items": null,
            "align_self": null,
            "border": null,
            "bottom": null,
            "display": null,
            "flex": null,
            "flex_flow": null,
            "grid_area": null,
            "grid_auto_columns": null,
            "grid_auto_flow": null,
            "grid_auto_rows": null,
            "grid_column": null,
            "grid_gap": null,
            "grid_row": null,
            "grid_template_areas": null,
            "grid_template_columns": null,
            "grid_template_rows": null,
            "height": null,
            "justify_content": null,
            "justify_items": null,
            "left": null,
            "margin": null,
            "max_height": null,
            "max_width": null,
            "min_height": null,
            "min_width": null,
            "object_fit": null,
            "object_position": null,
            "order": null,
            "overflow": null,
            "overflow_x": null,
            "overflow_y": null,
            "padding": null,
            "right": null,
            "top": null,
            "visibility": null,
            "width": null
          }
        },
        "b90f579ae0fd4df8ab0197e3f6d7d26f": {
          "model_module": "@jupyter-widgets/base",
          "model_name": "LayoutModel",
          "model_module_version": "1.2.0",
          "state": {
            "_model_module": "@jupyter-widgets/base",
            "_model_module_version": "1.2.0",
            "_model_name": "LayoutModel",
            "_view_count": null,
            "_view_module": "@jupyter-widgets/base",
            "_view_module_version": "1.2.0",
            "_view_name": "LayoutView",
            "align_content": null,
            "align_items": null,
            "align_self": null,
            "border": null,
            "bottom": null,
            "display": null,
            "flex": null,
            "flex_flow": null,
            "grid_area": null,
            "grid_auto_columns": null,
            "grid_auto_flow": null,
            "grid_auto_rows": null,
            "grid_column": null,
            "grid_gap": null,
            "grid_row": null,
            "grid_template_areas": null,
            "grid_template_columns": null,
            "grid_template_rows": null,
            "height": null,
            "justify_content": null,
            "justify_items": null,
            "left": null,
            "margin": null,
            "max_height": null,
            "max_width": null,
            "min_height": null,
            "min_width": null,
            "object_fit": null,
            "object_position": null,
            "order": null,
            "overflow": null,
            "overflow_x": null,
            "overflow_y": null,
            "padding": null,
            "right": null,
            "top": null,
            "visibility": null,
            "width": null
          }
        },
        "c88a781d674e40f0a731e470b4371cc7": {
          "model_module": "@jupyter-widgets/controls",
          "model_name": "DescriptionStyleModel",
          "model_module_version": "1.5.0",
          "state": {
            "_model_module": "@jupyter-widgets/controls",
            "_model_module_version": "1.5.0",
            "_model_name": "DescriptionStyleModel",
            "_view_count": null,
            "_view_module": "@jupyter-widgets/base",
            "_view_module_version": "1.2.0",
            "_view_name": "StyleView",
            "description_width": ""
          }
        },
        "823fc1dc5d5b40b1be2b1a376ce039f0": {
          "model_module": "@jupyter-widgets/base",
          "model_name": "LayoutModel",
          "model_module_version": "1.2.0",
          "state": {
            "_model_module": "@jupyter-widgets/base",
            "_model_module_version": "1.2.0",
            "_model_name": "LayoutModel",
            "_view_count": null,
            "_view_module": "@jupyter-widgets/base",
            "_view_module_version": "1.2.0",
            "_view_name": "LayoutView",
            "align_content": null,
            "align_items": null,
            "align_self": null,
            "border": null,
            "bottom": null,
            "display": null,
            "flex": null,
            "flex_flow": null,
            "grid_area": null,
            "grid_auto_columns": null,
            "grid_auto_flow": null,
            "grid_auto_rows": null,
            "grid_column": null,
            "grid_gap": null,
            "grid_row": null,
            "grid_template_areas": null,
            "grid_template_columns": null,
            "grid_template_rows": null,
            "height": null,
            "justify_content": null,
            "justify_items": null,
            "left": null,
            "margin": null,
            "max_height": null,
            "max_width": null,
            "min_height": null,
            "min_width": null,
            "object_fit": null,
            "object_position": null,
            "order": null,
            "overflow": null,
            "overflow_x": null,
            "overflow_y": null,
            "padding": null,
            "right": null,
            "top": null,
            "visibility": null,
            "width": null
          }
        },
        "fe8f2da660f34ab990f94457b70b1b6a": {
          "model_module": "@jupyter-widgets/controls",
          "model_name": "ProgressStyleModel",
          "model_module_version": "1.5.0",
          "state": {
            "_model_module": "@jupyter-widgets/controls",
            "_model_module_version": "1.5.0",
            "_model_name": "ProgressStyleModel",
            "_view_count": null,
            "_view_module": "@jupyter-widgets/base",
            "_view_module_version": "1.2.0",
            "_view_name": "StyleView",
            "bar_color": null,
            "description_width": ""
          }
        },
        "ae9f03e002db48d4933d1d56455f28fd": {
          "model_module": "@jupyter-widgets/base",
          "model_name": "LayoutModel",
          "model_module_version": "1.2.0",
          "state": {
            "_model_module": "@jupyter-widgets/base",
            "_model_module_version": "1.2.0",
            "_model_name": "LayoutModel",
            "_view_count": null,
            "_view_module": "@jupyter-widgets/base",
            "_view_module_version": "1.2.0",
            "_view_name": "LayoutView",
            "align_content": null,
            "align_items": null,
            "align_self": null,
            "border": null,
            "bottom": null,
            "display": null,
            "flex": null,
            "flex_flow": null,
            "grid_area": null,
            "grid_auto_columns": null,
            "grid_auto_flow": null,
            "grid_auto_rows": null,
            "grid_column": null,
            "grid_gap": null,
            "grid_row": null,
            "grid_template_areas": null,
            "grid_template_columns": null,
            "grid_template_rows": null,
            "height": null,
            "justify_content": null,
            "justify_items": null,
            "left": null,
            "margin": null,
            "max_height": null,
            "max_width": null,
            "min_height": null,
            "min_width": null,
            "object_fit": null,
            "object_position": null,
            "order": null,
            "overflow": null,
            "overflow_x": null,
            "overflow_y": null,
            "padding": null,
            "right": null,
            "top": null,
            "visibility": null,
            "width": null
          }
        },
        "2840020468664765b461a9a2e6b094c0": {
          "model_module": "@jupyter-widgets/controls",
          "model_name": "DescriptionStyleModel",
          "model_module_version": "1.5.0",
          "state": {
            "_model_module": "@jupyter-widgets/controls",
            "_model_module_version": "1.5.0",
            "_model_name": "DescriptionStyleModel",
            "_view_count": null,
            "_view_module": "@jupyter-widgets/base",
            "_view_module_version": "1.2.0",
            "_view_name": "StyleView",
            "description_width": ""
          }
        },
        "7457ae52b5394b359707ed3bb7edae71": {
          "model_module": "@jupyter-widgets/controls",
          "model_name": "HBoxModel",
          "model_module_version": "1.5.0",
          "state": {
            "_dom_classes": [],
            "_model_module": "@jupyter-widgets/controls",
            "_model_module_version": "1.5.0",
            "_model_name": "HBoxModel",
            "_view_count": null,
            "_view_module": "@jupyter-widgets/controls",
            "_view_module_version": "1.5.0",
            "_view_name": "HBoxView",
            "box_style": "",
            "children": [
              "IPY_MODEL_2825dd7d7516415f950eb7b23fa0729f",
              "IPY_MODEL_56434db29d464c4f97d74a92ba7a95f1",
              "IPY_MODEL_367fa0d75a4844eda594333a08e79ba1"
            ],
            "layout": "IPY_MODEL_dd13432283a24177af2ae98046625214"
          }
        },
        "2825dd7d7516415f950eb7b23fa0729f": {
          "model_module": "@jupyter-widgets/controls",
          "model_name": "HTMLModel",
          "model_module_version": "1.5.0",
          "state": {
            "_dom_classes": [],
            "_model_module": "@jupyter-widgets/controls",
            "_model_module_version": "1.5.0",
            "_model_name": "HTMLModel",
            "_view_count": null,
            "_view_module": "@jupyter-widgets/controls",
            "_view_module_version": "1.5.0",
            "_view_name": "HTMLView",
            "description": "",
            "description_tooltip": null,
            "layout": "IPY_MODEL_ae30b922460e4d14b463641050087e50",
            "placeholder": "​",
            "style": "IPY_MODEL_e3b9172a621a4911af3671e4744e2c5f",
            "value": "Casting the dataset: 100%"
          }
        },
        "56434db29d464c4f97d74a92ba7a95f1": {
          "model_module": "@jupyter-widgets/controls",
          "model_name": "FloatProgressModel",
          "model_module_version": "1.5.0",
          "state": {
            "_dom_classes": [],
            "_model_module": "@jupyter-widgets/controls",
            "_model_module_version": "1.5.0",
            "_model_name": "FloatProgressModel",
            "_view_count": null,
            "_view_module": "@jupyter-widgets/controls",
            "_view_module_version": "1.5.0",
            "_view_name": "ProgressView",
            "bar_style": "success",
            "description": "",
            "description_tooltip": null,
            "layout": "IPY_MODEL_05932b678c8b43f6b32d26a3adbfe70d",
            "max": 602,
            "min": 0,
            "orientation": "horizontal",
            "style": "IPY_MODEL_453ced53216d40a5bb6a379b969da810",
            "value": 602
          }
        },
        "367fa0d75a4844eda594333a08e79ba1": {
          "model_module": "@jupyter-widgets/controls",
          "model_name": "HTMLModel",
          "model_module_version": "1.5.0",
          "state": {
            "_dom_classes": [],
            "_model_module": "@jupyter-widgets/controls",
            "_model_module_version": "1.5.0",
            "_model_name": "HTMLModel",
            "_view_count": null,
            "_view_module": "@jupyter-widgets/controls",
            "_view_module_version": "1.5.0",
            "_view_name": "HTMLView",
            "description": "",
            "description_tooltip": null,
            "layout": "IPY_MODEL_6c1551d49bc14da8a94bdab4ca050ba0",
            "placeholder": "​",
            "style": "IPY_MODEL_92ff28c70ebd485bb0467e68612f98b7",
            "value": " 602/602 [00:00&lt;00:00, 21806.28 examples/s]"
          }
        },
        "dd13432283a24177af2ae98046625214": {
          "model_module": "@jupyter-widgets/base",
          "model_name": "LayoutModel",
          "model_module_version": "1.2.0",
          "state": {
            "_model_module": "@jupyter-widgets/base",
            "_model_module_version": "1.2.0",
            "_model_name": "LayoutModel",
            "_view_count": null,
            "_view_module": "@jupyter-widgets/base",
            "_view_module_version": "1.2.0",
            "_view_name": "LayoutView",
            "align_content": null,
            "align_items": null,
            "align_self": null,
            "border": null,
            "bottom": null,
            "display": null,
            "flex": null,
            "flex_flow": null,
            "grid_area": null,
            "grid_auto_columns": null,
            "grid_auto_flow": null,
            "grid_auto_rows": null,
            "grid_column": null,
            "grid_gap": null,
            "grid_row": null,
            "grid_template_areas": null,
            "grid_template_columns": null,
            "grid_template_rows": null,
            "height": null,
            "justify_content": null,
            "justify_items": null,
            "left": null,
            "margin": null,
            "max_height": null,
            "max_width": null,
            "min_height": null,
            "min_width": null,
            "object_fit": null,
            "object_position": null,
            "order": null,
            "overflow": null,
            "overflow_x": null,
            "overflow_y": null,
            "padding": null,
            "right": null,
            "top": null,
            "visibility": null,
            "width": null
          }
        },
        "ae30b922460e4d14b463641050087e50": {
          "model_module": "@jupyter-widgets/base",
          "model_name": "LayoutModel",
          "model_module_version": "1.2.0",
          "state": {
            "_model_module": "@jupyter-widgets/base",
            "_model_module_version": "1.2.0",
            "_model_name": "LayoutModel",
            "_view_count": null,
            "_view_module": "@jupyter-widgets/base",
            "_view_module_version": "1.2.0",
            "_view_name": "LayoutView",
            "align_content": null,
            "align_items": null,
            "align_self": null,
            "border": null,
            "bottom": null,
            "display": null,
            "flex": null,
            "flex_flow": null,
            "grid_area": null,
            "grid_auto_columns": null,
            "grid_auto_flow": null,
            "grid_auto_rows": null,
            "grid_column": null,
            "grid_gap": null,
            "grid_row": null,
            "grid_template_areas": null,
            "grid_template_columns": null,
            "grid_template_rows": null,
            "height": null,
            "justify_content": null,
            "justify_items": null,
            "left": null,
            "margin": null,
            "max_height": null,
            "max_width": null,
            "min_height": null,
            "min_width": null,
            "object_fit": null,
            "object_position": null,
            "order": null,
            "overflow": null,
            "overflow_x": null,
            "overflow_y": null,
            "padding": null,
            "right": null,
            "top": null,
            "visibility": null,
            "width": null
          }
        },
        "e3b9172a621a4911af3671e4744e2c5f": {
          "model_module": "@jupyter-widgets/controls",
          "model_name": "DescriptionStyleModel",
          "model_module_version": "1.5.0",
          "state": {
            "_model_module": "@jupyter-widgets/controls",
            "_model_module_version": "1.5.0",
            "_model_name": "DescriptionStyleModel",
            "_view_count": null,
            "_view_module": "@jupyter-widgets/base",
            "_view_module_version": "1.2.0",
            "_view_name": "StyleView",
            "description_width": ""
          }
        },
        "05932b678c8b43f6b32d26a3adbfe70d": {
          "model_module": "@jupyter-widgets/base",
          "model_name": "LayoutModel",
          "model_module_version": "1.2.0",
          "state": {
            "_model_module": "@jupyter-widgets/base",
            "_model_module_version": "1.2.0",
            "_model_name": "LayoutModel",
            "_view_count": null,
            "_view_module": "@jupyter-widgets/base",
            "_view_module_version": "1.2.0",
            "_view_name": "LayoutView",
            "align_content": null,
            "align_items": null,
            "align_self": null,
            "border": null,
            "bottom": null,
            "display": null,
            "flex": null,
            "flex_flow": null,
            "grid_area": null,
            "grid_auto_columns": null,
            "grid_auto_flow": null,
            "grid_auto_rows": null,
            "grid_column": null,
            "grid_gap": null,
            "grid_row": null,
            "grid_template_areas": null,
            "grid_template_columns": null,
            "grid_template_rows": null,
            "height": null,
            "justify_content": null,
            "justify_items": null,
            "left": null,
            "margin": null,
            "max_height": null,
            "max_width": null,
            "min_height": null,
            "min_width": null,
            "object_fit": null,
            "object_position": null,
            "order": null,
            "overflow": null,
            "overflow_x": null,
            "overflow_y": null,
            "padding": null,
            "right": null,
            "top": null,
            "visibility": null,
            "width": null
          }
        },
        "453ced53216d40a5bb6a379b969da810": {
          "model_module": "@jupyter-widgets/controls",
          "model_name": "ProgressStyleModel",
          "model_module_version": "1.5.0",
          "state": {
            "_model_module": "@jupyter-widgets/controls",
            "_model_module_version": "1.5.0",
            "_model_name": "ProgressStyleModel",
            "_view_count": null,
            "_view_module": "@jupyter-widgets/base",
            "_view_module_version": "1.2.0",
            "_view_name": "StyleView",
            "bar_color": null,
            "description_width": ""
          }
        },
        "6c1551d49bc14da8a94bdab4ca050ba0": {
          "model_module": "@jupyter-widgets/base",
          "model_name": "LayoutModel",
          "model_module_version": "1.2.0",
          "state": {
            "_model_module": "@jupyter-widgets/base",
            "_model_module_version": "1.2.0",
            "_model_name": "LayoutModel",
            "_view_count": null,
            "_view_module": "@jupyter-widgets/base",
            "_view_module_version": "1.2.0",
            "_view_name": "LayoutView",
            "align_content": null,
            "align_items": null,
            "align_self": null,
            "border": null,
            "bottom": null,
            "display": null,
            "flex": null,
            "flex_flow": null,
            "grid_area": null,
            "grid_auto_columns": null,
            "grid_auto_flow": null,
            "grid_auto_rows": null,
            "grid_column": null,
            "grid_gap": null,
            "grid_row": null,
            "grid_template_areas": null,
            "grid_template_columns": null,
            "grid_template_rows": null,
            "height": null,
            "justify_content": null,
            "justify_items": null,
            "left": null,
            "margin": null,
            "max_height": null,
            "max_width": null,
            "min_height": null,
            "min_width": null,
            "object_fit": null,
            "object_position": null,
            "order": null,
            "overflow": null,
            "overflow_x": null,
            "overflow_y": null,
            "padding": null,
            "right": null,
            "top": null,
            "visibility": null,
            "width": null
          }
        },
        "92ff28c70ebd485bb0467e68612f98b7": {
          "model_module": "@jupyter-widgets/controls",
          "model_name": "DescriptionStyleModel",
          "model_module_version": "1.5.0",
          "state": {
            "_model_module": "@jupyter-widgets/controls",
            "_model_module_version": "1.5.0",
            "_model_name": "DescriptionStyleModel",
            "_view_count": null,
            "_view_module": "@jupyter-widgets/base",
            "_view_module_version": "1.2.0",
            "_view_name": "StyleView",
            "description_width": ""
          }
        },
        "d19f725d35da4b72bd5a040882fa9926": {
          "model_module": "@jupyter-widgets/controls",
          "model_name": "HBoxModel",
          "model_module_version": "1.5.0",
          "state": {
            "_dom_classes": [],
            "_model_module": "@jupyter-widgets/controls",
            "_model_module_version": "1.5.0",
            "_model_name": "HBoxModel",
            "_view_count": null,
            "_view_module": "@jupyter-widgets/controls",
            "_view_module_version": "1.5.0",
            "_view_name": "HBoxView",
            "box_style": "",
            "children": [
              "IPY_MODEL_84f8e1d445464a4594a6f75eae53993a",
              "IPY_MODEL_553812476e804272b4694bf6df39e41c",
              "IPY_MODEL_f29ca7e636984118bedd1a828d5e7315"
            ],
            "layout": "IPY_MODEL_6f5ab69c7c5c474f86624ebf57fc9258"
          }
        },
        "84f8e1d445464a4594a6f75eae53993a": {
          "model_module": "@jupyter-widgets/controls",
          "model_name": "HTMLModel",
          "model_module_version": "1.5.0",
          "state": {
            "_dom_classes": [],
            "_model_module": "@jupyter-widgets/controls",
            "_model_module_version": "1.5.0",
            "_model_name": "HTMLModel",
            "_view_count": null,
            "_view_module": "@jupyter-widgets/controls",
            "_view_module_version": "1.5.0",
            "_view_name": "HTMLView",
            "description": "",
            "description_tooltip": null,
            "layout": "IPY_MODEL_7e18cfb64709427aad50c8cdfb298e90",
            "placeholder": "​",
            "style": "IPY_MODEL_05c41c7719104ecea2ff17241351eb3d",
            "value": "Map: 100%"
          }
        },
        "553812476e804272b4694bf6df39e41c": {
          "model_module": "@jupyter-widgets/controls",
          "model_name": "FloatProgressModel",
          "model_module_version": "1.5.0",
          "state": {
            "_dom_classes": [],
            "_model_module": "@jupyter-widgets/controls",
            "_model_module_version": "1.5.0",
            "_model_name": "FloatProgressModel",
            "_view_count": null,
            "_view_module": "@jupyter-widgets/controls",
            "_view_module_version": "1.5.0",
            "_view_name": "ProgressView",
            "bar_style": "success",
            "description": "",
            "description_tooltip": null,
            "layout": "IPY_MODEL_a4f429d591594289baca53726a9f9229",
            "max": 754,
            "min": 0,
            "orientation": "horizontal",
            "style": "IPY_MODEL_f1dac62028a3460584eb2e51ec5f8a8d",
            "value": 754
          }
        },
        "f29ca7e636984118bedd1a828d5e7315": {
          "model_module": "@jupyter-widgets/controls",
          "model_name": "HTMLModel",
          "model_module_version": "1.5.0",
          "state": {
            "_dom_classes": [],
            "_model_module": "@jupyter-widgets/controls",
            "_model_module_version": "1.5.0",
            "_model_name": "HTMLModel",
            "_view_count": null,
            "_view_module": "@jupyter-widgets/controls",
            "_view_module_version": "1.5.0",
            "_view_name": "HTMLView",
            "description": "",
            "description_tooltip": null,
            "layout": "IPY_MODEL_f04b153322be4fda9069da3e343ba7e0",
            "placeholder": "​",
            "style": "IPY_MODEL_d4a5de90b2694ef1ba930fe8e4d6fc5d",
            "value": " 754/754 [00:00&lt;00:00, 3073.77 examples/s]"
          }
        },
        "6f5ab69c7c5c474f86624ebf57fc9258": {
          "model_module": "@jupyter-widgets/base",
          "model_name": "LayoutModel",
          "model_module_version": "1.2.0",
          "state": {
            "_model_module": "@jupyter-widgets/base",
            "_model_module_version": "1.2.0",
            "_model_name": "LayoutModel",
            "_view_count": null,
            "_view_module": "@jupyter-widgets/base",
            "_view_module_version": "1.2.0",
            "_view_name": "LayoutView",
            "align_content": null,
            "align_items": null,
            "align_self": null,
            "border": null,
            "bottom": null,
            "display": null,
            "flex": null,
            "flex_flow": null,
            "grid_area": null,
            "grid_auto_columns": null,
            "grid_auto_flow": null,
            "grid_auto_rows": null,
            "grid_column": null,
            "grid_gap": null,
            "grid_row": null,
            "grid_template_areas": null,
            "grid_template_columns": null,
            "grid_template_rows": null,
            "height": null,
            "justify_content": null,
            "justify_items": null,
            "left": null,
            "margin": null,
            "max_height": null,
            "max_width": null,
            "min_height": null,
            "min_width": null,
            "object_fit": null,
            "object_position": null,
            "order": null,
            "overflow": null,
            "overflow_x": null,
            "overflow_y": null,
            "padding": null,
            "right": null,
            "top": null,
            "visibility": null,
            "width": null
          }
        },
        "7e18cfb64709427aad50c8cdfb298e90": {
          "model_module": "@jupyter-widgets/base",
          "model_name": "LayoutModel",
          "model_module_version": "1.2.0",
          "state": {
            "_model_module": "@jupyter-widgets/base",
            "_model_module_version": "1.2.0",
            "_model_name": "LayoutModel",
            "_view_count": null,
            "_view_module": "@jupyter-widgets/base",
            "_view_module_version": "1.2.0",
            "_view_name": "LayoutView",
            "align_content": null,
            "align_items": null,
            "align_self": null,
            "border": null,
            "bottom": null,
            "display": null,
            "flex": null,
            "flex_flow": null,
            "grid_area": null,
            "grid_auto_columns": null,
            "grid_auto_flow": null,
            "grid_auto_rows": null,
            "grid_column": null,
            "grid_gap": null,
            "grid_row": null,
            "grid_template_areas": null,
            "grid_template_columns": null,
            "grid_template_rows": null,
            "height": null,
            "justify_content": null,
            "justify_items": null,
            "left": null,
            "margin": null,
            "max_height": null,
            "max_width": null,
            "min_height": null,
            "min_width": null,
            "object_fit": null,
            "object_position": null,
            "order": null,
            "overflow": null,
            "overflow_x": null,
            "overflow_y": null,
            "padding": null,
            "right": null,
            "top": null,
            "visibility": null,
            "width": null
          }
        },
        "05c41c7719104ecea2ff17241351eb3d": {
          "model_module": "@jupyter-widgets/controls",
          "model_name": "DescriptionStyleModel",
          "model_module_version": "1.5.0",
          "state": {
            "_model_module": "@jupyter-widgets/controls",
            "_model_module_version": "1.5.0",
            "_model_name": "DescriptionStyleModel",
            "_view_count": null,
            "_view_module": "@jupyter-widgets/base",
            "_view_module_version": "1.2.0",
            "_view_name": "StyleView",
            "description_width": ""
          }
        },
        "a4f429d591594289baca53726a9f9229": {
          "model_module": "@jupyter-widgets/base",
          "model_name": "LayoutModel",
          "model_module_version": "1.2.0",
          "state": {
            "_model_module": "@jupyter-widgets/base",
            "_model_module_version": "1.2.0",
            "_model_name": "LayoutModel",
            "_view_count": null,
            "_view_module": "@jupyter-widgets/base",
            "_view_module_version": "1.2.0",
            "_view_name": "LayoutView",
            "align_content": null,
            "align_items": null,
            "align_self": null,
            "border": null,
            "bottom": null,
            "display": null,
            "flex": null,
            "flex_flow": null,
            "grid_area": null,
            "grid_auto_columns": null,
            "grid_auto_flow": null,
            "grid_auto_rows": null,
            "grid_column": null,
            "grid_gap": null,
            "grid_row": null,
            "grid_template_areas": null,
            "grid_template_columns": null,
            "grid_template_rows": null,
            "height": null,
            "justify_content": null,
            "justify_items": null,
            "left": null,
            "margin": null,
            "max_height": null,
            "max_width": null,
            "min_height": null,
            "min_width": null,
            "object_fit": null,
            "object_position": null,
            "order": null,
            "overflow": null,
            "overflow_x": null,
            "overflow_y": null,
            "padding": null,
            "right": null,
            "top": null,
            "visibility": null,
            "width": null
          }
        },
        "f1dac62028a3460584eb2e51ec5f8a8d": {
          "model_module": "@jupyter-widgets/controls",
          "model_name": "ProgressStyleModel",
          "model_module_version": "1.5.0",
          "state": {
            "_model_module": "@jupyter-widgets/controls",
            "_model_module_version": "1.5.0",
            "_model_name": "ProgressStyleModel",
            "_view_count": null,
            "_view_module": "@jupyter-widgets/base",
            "_view_module_version": "1.2.0",
            "_view_name": "StyleView",
            "bar_color": null,
            "description_width": ""
          }
        },
        "f04b153322be4fda9069da3e343ba7e0": {
          "model_module": "@jupyter-widgets/base",
          "model_name": "LayoutModel",
          "model_module_version": "1.2.0",
          "state": {
            "_model_module": "@jupyter-widgets/base",
            "_model_module_version": "1.2.0",
            "_model_name": "LayoutModel",
            "_view_count": null,
            "_view_module": "@jupyter-widgets/base",
            "_view_module_version": "1.2.0",
            "_view_name": "LayoutView",
            "align_content": null,
            "align_items": null,
            "align_self": null,
            "border": null,
            "bottom": null,
            "display": null,
            "flex": null,
            "flex_flow": null,
            "grid_area": null,
            "grid_auto_columns": null,
            "grid_auto_flow": null,
            "grid_auto_rows": null,
            "grid_column": null,
            "grid_gap": null,
            "grid_row": null,
            "grid_template_areas": null,
            "grid_template_columns": null,
            "grid_template_rows": null,
            "height": null,
            "justify_content": null,
            "justify_items": null,
            "left": null,
            "margin": null,
            "max_height": null,
            "max_width": null,
            "min_height": null,
            "min_width": null,
            "object_fit": null,
            "object_position": null,
            "order": null,
            "overflow": null,
            "overflow_x": null,
            "overflow_y": null,
            "padding": null,
            "right": null,
            "top": null,
            "visibility": null,
            "width": null
          }
        },
        "d4a5de90b2694ef1ba930fe8e4d6fc5d": {
          "model_module": "@jupyter-widgets/controls",
          "model_name": "DescriptionStyleModel",
          "model_module_version": "1.5.0",
          "state": {
            "_model_module": "@jupyter-widgets/controls",
            "_model_module_version": "1.5.0",
            "_model_name": "DescriptionStyleModel",
            "_view_count": null,
            "_view_module": "@jupyter-widgets/base",
            "_view_module_version": "1.2.0",
            "_view_name": "StyleView",
            "description_width": ""
          }
        },
        "2eaf67d3cf8d42749251cc8763518d69": {
          "model_module": "@jupyter-widgets/controls",
          "model_name": "HBoxModel",
          "model_module_version": "1.5.0",
          "state": {
            "_dom_classes": [],
            "_model_module": "@jupyter-widgets/controls",
            "_model_module_version": "1.5.0",
            "_model_name": "HBoxModel",
            "_view_count": null,
            "_view_module": "@jupyter-widgets/controls",
            "_view_module_version": "1.5.0",
            "_view_name": "HBoxView",
            "box_style": "",
            "children": [
              "IPY_MODEL_9aff2d31a9ab41a09d2d7f77c8ee7765",
              "IPY_MODEL_59a92ce6d9564edbb7232ce7b2435f24",
              "IPY_MODEL_70ccca92170b41348dc461b7b835b746"
            ],
            "layout": "IPY_MODEL_6750c1ed56af441188ae431e7af4698d"
          }
        },
        "9aff2d31a9ab41a09d2d7f77c8ee7765": {
          "model_module": "@jupyter-widgets/controls",
          "model_name": "HTMLModel",
          "model_module_version": "1.5.0",
          "state": {
            "_dom_classes": [],
            "_model_module": "@jupyter-widgets/controls",
            "_model_module_version": "1.5.0",
            "_model_name": "HTMLModel",
            "_view_count": null,
            "_view_module": "@jupyter-widgets/controls",
            "_view_module_version": "1.5.0",
            "_view_name": "HTMLView",
            "description": "",
            "description_tooltip": null,
            "layout": "IPY_MODEL_02d383809bbc463dbb569bdf96ff18da",
            "placeholder": "​",
            "style": "IPY_MODEL_823116ce953a4fa7b3e0a9a813852cfe",
            "value": "Map: 100%"
          }
        },
        "59a92ce6d9564edbb7232ce7b2435f24": {
          "model_module": "@jupyter-widgets/controls",
          "model_name": "FloatProgressModel",
          "model_module_version": "1.5.0",
          "state": {
            "_dom_classes": [],
            "_model_module": "@jupyter-widgets/controls",
            "_model_module_version": "1.5.0",
            "_model_name": "FloatProgressModel",
            "_view_count": null,
            "_view_module": "@jupyter-widgets/controls",
            "_view_module_version": "1.5.0",
            "_view_name": "ProgressView",
            "bar_style": "success",
            "description": "",
            "description_tooltip": null,
            "layout": "IPY_MODEL_4da5fb665d4842a3a6fc26dc2886bf14",
            "max": 150,
            "min": 0,
            "orientation": "horizontal",
            "style": "IPY_MODEL_d545299200da4865b109b47a3b4ba47e",
            "value": 150
          }
        },
        "70ccca92170b41348dc461b7b835b746": {
          "model_module": "@jupyter-widgets/controls",
          "model_name": "HTMLModel",
          "model_module_version": "1.5.0",
          "state": {
            "_dom_classes": [],
            "_model_module": "@jupyter-widgets/controls",
            "_model_module_version": "1.5.0",
            "_model_name": "HTMLModel",
            "_view_count": null,
            "_view_module": "@jupyter-widgets/controls",
            "_view_module_version": "1.5.0",
            "_view_name": "HTMLView",
            "description": "",
            "description_tooltip": null,
            "layout": "IPY_MODEL_f8b1295cb4164f58b930b37a06d81834",
            "placeholder": "​",
            "style": "IPY_MODEL_59b1cb19a622495a8a290c4c8d5b3b4e",
            "value": " 150/150 [00:00&lt;00:00, 2184.23 examples/s]"
          }
        },
        "6750c1ed56af441188ae431e7af4698d": {
          "model_module": "@jupyter-widgets/base",
          "model_name": "LayoutModel",
          "model_module_version": "1.2.0",
          "state": {
            "_model_module": "@jupyter-widgets/base",
            "_model_module_version": "1.2.0",
            "_model_name": "LayoutModel",
            "_view_count": null,
            "_view_module": "@jupyter-widgets/base",
            "_view_module_version": "1.2.0",
            "_view_name": "LayoutView",
            "align_content": null,
            "align_items": null,
            "align_self": null,
            "border": null,
            "bottom": null,
            "display": null,
            "flex": null,
            "flex_flow": null,
            "grid_area": null,
            "grid_auto_columns": null,
            "grid_auto_flow": null,
            "grid_auto_rows": null,
            "grid_column": null,
            "grid_gap": null,
            "grid_row": null,
            "grid_template_areas": null,
            "grid_template_columns": null,
            "grid_template_rows": null,
            "height": null,
            "justify_content": null,
            "justify_items": null,
            "left": null,
            "margin": null,
            "max_height": null,
            "max_width": null,
            "min_height": null,
            "min_width": null,
            "object_fit": null,
            "object_position": null,
            "order": null,
            "overflow": null,
            "overflow_x": null,
            "overflow_y": null,
            "padding": null,
            "right": null,
            "top": null,
            "visibility": null,
            "width": null
          }
        },
        "02d383809bbc463dbb569bdf96ff18da": {
          "model_module": "@jupyter-widgets/base",
          "model_name": "LayoutModel",
          "model_module_version": "1.2.0",
          "state": {
            "_model_module": "@jupyter-widgets/base",
            "_model_module_version": "1.2.0",
            "_model_name": "LayoutModel",
            "_view_count": null,
            "_view_module": "@jupyter-widgets/base",
            "_view_module_version": "1.2.0",
            "_view_name": "LayoutView",
            "align_content": null,
            "align_items": null,
            "align_self": null,
            "border": null,
            "bottom": null,
            "display": null,
            "flex": null,
            "flex_flow": null,
            "grid_area": null,
            "grid_auto_columns": null,
            "grid_auto_flow": null,
            "grid_auto_rows": null,
            "grid_column": null,
            "grid_gap": null,
            "grid_row": null,
            "grid_template_areas": null,
            "grid_template_columns": null,
            "grid_template_rows": null,
            "height": null,
            "justify_content": null,
            "justify_items": null,
            "left": null,
            "margin": null,
            "max_height": null,
            "max_width": null,
            "min_height": null,
            "min_width": null,
            "object_fit": null,
            "object_position": null,
            "order": null,
            "overflow": null,
            "overflow_x": null,
            "overflow_y": null,
            "padding": null,
            "right": null,
            "top": null,
            "visibility": null,
            "width": null
          }
        },
        "823116ce953a4fa7b3e0a9a813852cfe": {
          "model_module": "@jupyter-widgets/controls",
          "model_name": "DescriptionStyleModel",
          "model_module_version": "1.5.0",
          "state": {
            "_model_module": "@jupyter-widgets/controls",
            "_model_module_version": "1.5.0",
            "_model_name": "DescriptionStyleModel",
            "_view_count": null,
            "_view_module": "@jupyter-widgets/base",
            "_view_module_version": "1.2.0",
            "_view_name": "StyleView",
            "description_width": ""
          }
        },
        "4da5fb665d4842a3a6fc26dc2886bf14": {
          "model_module": "@jupyter-widgets/base",
          "model_name": "LayoutModel",
          "model_module_version": "1.2.0",
          "state": {
            "_model_module": "@jupyter-widgets/base",
            "_model_module_version": "1.2.0",
            "_model_name": "LayoutModel",
            "_view_count": null,
            "_view_module": "@jupyter-widgets/base",
            "_view_module_version": "1.2.0",
            "_view_name": "LayoutView",
            "align_content": null,
            "align_items": null,
            "align_self": null,
            "border": null,
            "bottom": null,
            "display": null,
            "flex": null,
            "flex_flow": null,
            "grid_area": null,
            "grid_auto_columns": null,
            "grid_auto_flow": null,
            "grid_auto_rows": null,
            "grid_column": null,
            "grid_gap": null,
            "grid_row": null,
            "grid_template_areas": null,
            "grid_template_columns": null,
            "grid_template_rows": null,
            "height": null,
            "justify_content": null,
            "justify_items": null,
            "left": null,
            "margin": null,
            "max_height": null,
            "max_width": null,
            "min_height": null,
            "min_width": null,
            "object_fit": null,
            "object_position": null,
            "order": null,
            "overflow": null,
            "overflow_x": null,
            "overflow_y": null,
            "padding": null,
            "right": null,
            "top": null,
            "visibility": null,
            "width": null
          }
        },
        "d545299200da4865b109b47a3b4ba47e": {
          "model_module": "@jupyter-widgets/controls",
          "model_name": "ProgressStyleModel",
          "model_module_version": "1.5.0",
          "state": {
            "_model_module": "@jupyter-widgets/controls",
            "_model_module_version": "1.5.0",
            "_model_name": "ProgressStyleModel",
            "_view_count": null,
            "_view_module": "@jupyter-widgets/base",
            "_view_module_version": "1.2.0",
            "_view_name": "StyleView",
            "bar_color": null,
            "description_width": ""
          }
        },
        "f8b1295cb4164f58b930b37a06d81834": {
          "model_module": "@jupyter-widgets/base",
          "model_name": "LayoutModel",
          "model_module_version": "1.2.0",
          "state": {
            "_model_module": "@jupyter-widgets/base",
            "_model_module_version": "1.2.0",
            "_model_name": "LayoutModel",
            "_view_count": null,
            "_view_module": "@jupyter-widgets/base",
            "_view_module_version": "1.2.0",
            "_view_name": "LayoutView",
            "align_content": null,
            "align_items": null,
            "align_self": null,
            "border": null,
            "bottom": null,
            "display": null,
            "flex": null,
            "flex_flow": null,
            "grid_area": null,
            "grid_auto_columns": null,
            "grid_auto_flow": null,
            "grid_auto_rows": null,
            "grid_column": null,
            "grid_gap": null,
            "grid_row": null,
            "grid_template_areas": null,
            "grid_template_columns": null,
            "grid_template_rows": null,
            "height": null,
            "justify_content": null,
            "justify_items": null,
            "left": null,
            "margin": null,
            "max_height": null,
            "max_width": null,
            "min_height": null,
            "min_width": null,
            "object_fit": null,
            "object_position": null,
            "order": null,
            "overflow": null,
            "overflow_x": null,
            "overflow_y": null,
            "padding": null,
            "right": null,
            "top": null,
            "visibility": null,
            "width": null
          }
        },
        "59b1cb19a622495a8a290c4c8d5b3b4e": {
          "model_module": "@jupyter-widgets/controls",
          "model_name": "DescriptionStyleModel",
          "model_module_version": "1.5.0",
          "state": {
            "_model_module": "@jupyter-widgets/controls",
            "_model_module_version": "1.5.0",
            "_model_name": "DescriptionStyleModel",
            "_view_count": null,
            "_view_module": "@jupyter-widgets/base",
            "_view_module_version": "1.2.0",
            "_view_name": "StyleView",
            "description_width": ""
          }
        },
        "44d19519cf504470bf6630e6455090fd": {
          "model_module": "@jupyter-widgets/controls",
          "model_name": "HBoxModel",
          "model_module_version": "1.5.0",
          "state": {
            "_dom_classes": [],
            "_model_module": "@jupyter-widgets/controls",
            "_model_module_version": "1.5.0",
            "_model_name": "HBoxModel",
            "_view_count": null,
            "_view_module": "@jupyter-widgets/controls",
            "_view_module_version": "1.5.0",
            "_view_name": "HBoxView",
            "box_style": "",
            "children": [
              "IPY_MODEL_54a8c73dd5c54fda96bce7b241bfd017",
              "IPY_MODEL_9011366a522c4ec394a3f0ec69857a43",
              "IPY_MODEL_6d13aa1d2e8e4b98b9886e5aa790978c"
            ],
            "layout": "IPY_MODEL_1ea8734cd1514873ab9ad51b44b59300"
          }
        },
        "54a8c73dd5c54fda96bce7b241bfd017": {
          "model_module": "@jupyter-widgets/controls",
          "model_name": "HTMLModel",
          "model_module_version": "1.5.0",
          "state": {
            "_dom_classes": [],
            "_model_module": "@jupyter-widgets/controls",
            "_model_module_version": "1.5.0",
            "_model_name": "HTMLModel",
            "_view_count": null,
            "_view_module": "@jupyter-widgets/controls",
            "_view_module_version": "1.5.0",
            "_view_name": "HTMLView",
            "description": "",
            "description_tooltip": null,
            "layout": "IPY_MODEL_5391f2a145284f988b2b608891da0cdb",
            "placeholder": "​",
            "style": "IPY_MODEL_cde836c3878c4c9e889a762c71e5c993",
            "value": "Map: 100%"
          }
        },
        "9011366a522c4ec394a3f0ec69857a43": {
          "model_module": "@jupyter-widgets/controls",
          "model_name": "FloatProgressModel",
          "model_module_version": "1.5.0",
          "state": {
            "_dom_classes": [],
            "_model_module": "@jupyter-widgets/controls",
            "_model_module_version": "1.5.0",
            "_model_name": "FloatProgressModel",
            "_view_count": null,
            "_view_module": "@jupyter-widgets/controls",
            "_view_module_version": "1.5.0",
            "_view_name": "ProgressView",
            "bar_style": "success",
            "description": "",
            "description_tooltip": null,
            "layout": "IPY_MODEL_e0461ab6585f4cbaadeb3c818828c14b",
            "max": 602,
            "min": 0,
            "orientation": "horizontal",
            "style": "IPY_MODEL_4996108ec1b942c1be360cdfa7b26645",
            "value": 602
          }
        },
        "6d13aa1d2e8e4b98b9886e5aa790978c": {
          "model_module": "@jupyter-widgets/controls",
          "model_name": "HTMLModel",
          "model_module_version": "1.5.0",
          "state": {
            "_dom_classes": [],
            "_model_module": "@jupyter-widgets/controls",
            "_model_module_version": "1.5.0",
            "_model_name": "HTMLModel",
            "_view_count": null,
            "_view_module": "@jupyter-widgets/controls",
            "_view_module_version": "1.5.0",
            "_view_name": "HTMLView",
            "description": "",
            "description_tooltip": null,
            "layout": "IPY_MODEL_bc7b4129d1f642679d749638915ce553",
            "placeholder": "​",
            "style": "IPY_MODEL_397199ea42674d628cbbe7b22d4d0337",
            "value": " 602/602 [00:00&lt;00:00, 3503.42 examples/s]"
          }
        },
        "1ea8734cd1514873ab9ad51b44b59300": {
          "model_module": "@jupyter-widgets/base",
          "model_name": "LayoutModel",
          "model_module_version": "1.2.0",
          "state": {
            "_model_module": "@jupyter-widgets/base",
            "_model_module_version": "1.2.0",
            "_model_name": "LayoutModel",
            "_view_count": null,
            "_view_module": "@jupyter-widgets/base",
            "_view_module_version": "1.2.0",
            "_view_name": "LayoutView",
            "align_content": null,
            "align_items": null,
            "align_self": null,
            "border": null,
            "bottom": null,
            "display": null,
            "flex": null,
            "flex_flow": null,
            "grid_area": null,
            "grid_auto_columns": null,
            "grid_auto_flow": null,
            "grid_auto_rows": null,
            "grid_column": null,
            "grid_gap": null,
            "grid_row": null,
            "grid_template_areas": null,
            "grid_template_columns": null,
            "grid_template_rows": null,
            "height": null,
            "justify_content": null,
            "justify_items": null,
            "left": null,
            "margin": null,
            "max_height": null,
            "max_width": null,
            "min_height": null,
            "min_width": null,
            "object_fit": null,
            "object_position": null,
            "order": null,
            "overflow": null,
            "overflow_x": null,
            "overflow_y": null,
            "padding": null,
            "right": null,
            "top": null,
            "visibility": null,
            "width": null
          }
        },
        "5391f2a145284f988b2b608891da0cdb": {
          "model_module": "@jupyter-widgets/base",
          "model_name": "LayoutModel",
          "model_module_version": "1.2.0",
          "state": {
            "_model_module": "@jupyter-widgets/base",
            "_model_module_version": "1.2.0",
            "_model_name": "LayoutModel",
            "_view_count": null,
            "_view_module": "@jupyter-widgets/base",
            "_view_module_version": "1.2.0",
            "_view_name": "LayoutView",
            "align_content": null,
            "align_items": null,
            "align_self": null,
            "border": null,
            "bottom": null,
            "display": null,
            "flex": null,
            "flex_flow": null,
            "grid_area": null,
            "grid_auto_columns": null,
            "grid_auto_flow": null,
            "grid_auto_rows": null,
            "grid_column": null,
            "grid_gap": null,
            "grid_row": null,
            "grid_template_areas": null,
            "grid_template_columns": null,
            "grid_template_rows": null,
            "height": null,
            "justify_content": null,
            "justify_items": null,
            "left": null,
            "margin": null,
            "max_height": null,
            "max_width": null,
            "min_height": null,
            "min_width": null,
            "object_fit": null,
            "object_position": null,
            "order": null,
            "overflow": null,
            "overflow_x": null,
            "overflow_y": null,
            "padding": null,
            "right": null,
            "top": null,
            "visibility": null,
            "width": null
          }
        },
        "cde836c3878c4c9e889a762c71e5c993": {
          "model_module": "@jupyter-widgets/controls",
          "model_name": "DescriptionStyleModel",
          "model_module_version": "1.5.0",
          "state": {
            "_model_module": "@jupyter-widgets/controls",
            "_model_module_version": "1.5.0",
            "_model_name": "DescriptionStyleModel",
            "_view_count": null,
            "_view_module": "@jupyter-widgets/base",
            "_view_module_version": "1.2.0",
            "_view_name": "StyleView",
            "description_width": ""
          }
        },
        "e0461ab6585f4cbaadeb3c818828c14b": {
          "model_module": "@jupyter-widgets/base",
          "model_name": "LayoutModel",
          "model_module_version": "1.2.0",
          "state": {
            "_model_module": "@jupyter-widgets/base",
            "_model_module_version": "1.2.0",
            "_model_name": "LayoutModel",
            "_view_count": null,
            "_view_module": "@jupyter-widgets/base",
            "_view_module_version": "1.2.0",
            "_view_name": "LayoutView",
            "align_content": null,
            "align_items": null,
            "align_self": null,
            "border": null,
            "bottom": null,
            "display": null,
            "flex": null,
            "flex_flow": null,
            "grid_area": null,
            "grid_auto_columns": null,
            "grid_auto_flow": null,
            "grid_auto_rows": null,
            "grid_column": null,
            "grid_gap": null,
            "grid_row": null,
            "grid_template_areas": null,
            "grid_template_columns": null,
            "grid_template_rows": null,
            "height": null,
            "justify_content": null,
            "justify_items": null,
            "left": null,
            "margin": null,
            "max_height": null,
            "max_width": null,
            "min_height": null,
            "min_width": null,
            "object_fit": null,
            "object_position": null,
            "order": null,
            "overflow": null,
            "overflow_x": null,
            "overflow_y": null,
            "padding": null,
            "right": null,
            "top": null,
            "visibility": null,
            "width": null
          }
        },
        "4996108ec1b942c1be360cdfa7b26645": {
          "model_module": "@jupyter-widgets/controls",
          "model_name": "ProgressStyleModel",
          "model_module_version": "1.5.0",
          "state": {
            "_model_module": "@jupyter-widgets/controls",
            "_model_module_version": "1.5.0",
            "_model_name": "ProgressStyleModel",
            "_view_count": null,
            "_view_module": "@jupyter-widgets/base",
            "_view_module_version": "1.2.0",
            "_view_name": "StyleView",
            "bar_color": null,
            "description_width": ""
          }
        },
        "bc7b4129d1f642679d749638915ce553": {
          "model_module": "@jupyter-widgets/base",
          "model_name": "LayoutModel",
          "model_module_version": "1.2.0",
          "state": {
            "_model_module": "@jupyter-widgets/base",
            "_model_module_version": "1.2.0",
            "_model_name": "LayoutModel",
            "_view_count": null,
            "_view_module": "@jupyter-widgets/base",
            "_view_module_version": "1.2.0",
            "_view_name": "LayoutView",
            "align_content": null,
            "align_items": null,
            "align_self": null,
            "border": null,
            "bottom": null,
            "display": null,
            "flex": null,
            "flex_flow": null,
            "grid_area": null,
            "grid_auto_columns": null,
            "grid_auto_flow": null,
            "grid_auto_rows": null,
            "grid_column": null,
            "grid_gap": null,
            "grid_row": null,
            "grid_template_areas": null,
            "grid_template_columns": null,
            "grid_template_rows": null,
            "height": null,
            "justify_content": null,
            "justify_items": null,
            "left": null,
            "margin": null,
            "max_height": null,
            "max_width": null,
            "min_height": null,
            "min_width": null,
            "object_fit": null,
            "object_position": null,
            "order": null,
            "overflow": null,
            "overflow_x": null,
            "overflow_y": null,
            "padding": null,
            "right": null,
            "top": null,
            "visibility": null,
            "width": null
          }
        },
        "397199ea42674d628cbbe7b22d4d0337": {
          "model_module": "@jupyter-widgets/controls",
          "model_name": "DescriptionStyleModel",
          "model_module_version": "1.5.0",
          "state": {
            "_model_module": "@jupyter-widgets/controls",
            "_model_module_version": "1.5.0",
            "_model_name": "DescriptionStyleModel",
            "_view_count": null,
            "_view_module": "@jupyter-widgets/base",
            "_view_module_version": "1.2.0",
            "_view_name": "StyleView",
            "description_width": ""
          }
        }
      }
    },
    "accelerator": "GPU"
  },
  "nbformat": 4,
  "nbformat_minor": 0
}