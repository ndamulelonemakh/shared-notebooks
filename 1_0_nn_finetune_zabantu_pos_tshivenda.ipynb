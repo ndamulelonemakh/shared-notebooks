{
  "cells": [
    {
      "cell_type": "markdown",
      "metadata": {
        "id": "4vSTK7NgfOVC"
      },
      "source": [
        "# Summary\n",
        "\n",
        "- Fine-tune a pretrained LLM for POS"
      ]
    },
    {
      "cell_type": "code",
      "source": [
        "%pip install -qU transformers datasets evaluate seqeval click"
      ],
      "metadata": {
        "id": "9L0FuhsDfYkV"
      },
      "execution_count": null,
      "outputs": []
    },
    {
      "cell_type": "code",
      "source": [
        "%pip install accelerate -qU"
      ],
      "metadata": {
        "id": "yjonen-FhSYw"
      },
      "execution_count": null,
      "outputs": []
    },
    {
      "cell_type": "code",
      "execution_count": null,
      "metadata": {
        "id": "M5ZY03WGfOVD"
      },
      "outputs": [],
      "source": [
        "import os\n",
        "from pprint import pprint\n",
        "from pathlib import Path"
      ]
    },
    {
      "cell_type": "code",
      "execution_count": null,
      "metadata": {
        "id": "-Cu3Dpb8fOVE"
      },
      "outputs": [],
      "source": [
        "import numpy as np\n",
        "import pandas as pd"
      ]
    },
    {
      "cell_type": "code",
      "execution_count": null,
      "metadata": {
        "id": "BevJf8k9fOVE"
      },
      "outputs": [],
      "source": [
        "from datasets import load_dataset"
      ]
    },
    {
      "cell_type": "code",
      "execution_count": null,
      "metadata": {
        "colab": {
          "base_uri": "https://localhost:8080/"
        },
        "id": "Rnvd9vCEfOVF",
        "outputId": "02dbb21c-8855-4083-f337-b9167c0a4f14"
      },
      "outputs": [
        {
          "output_type": "execute_result",
          "data": {
            "text/plain": [
              "PosixPath('/content')"
            ]
          },
          "metadata": {},
          "execution_count": 5
        }
      ],
      "source": [
        "root_dir = Path.cwd()\n",
        "root_dir"
      ]
    },
    {
      "cell_type": "code",
      "execution_count": null,
      "metadata": {
        "id": "dZ7sVeybfOVF"
      },
      "outputs": [],
      "source": [
        "dataset_checkpoint = \"ndamulelonemakh/za_pos\"\n",
        "model_checkpoint = \"dsfsi/zabantu-ven-120m\"\n",
        "push_to_hub = True\n",
        "local_checkpoint_dir = root_dir / \"data/checkpoints/zabantu-ven-120m-pos-tshivenda\"\n",
        "\n",
        "epochs = 1   # for testing purposes\n",
        "batch_size = 4\n",
        "max_length = 512"
      ]
    },
    {
      "cell_type": "code",
      "source": [
        "from huggingface_hub import notebook_login, whoami\n",
        "\n",
        "try:\n",
        "    whoami()\n",
        "except:\n",
        "    notebook_login()"
      ],
      "metadata": {
        "id": "Q4gWQIhbgeHu"
      },
      "execution_count": null,
      "outputs": []
    },
    {
      "cell_type": "markdown",
      "metadata": {
        "id": "vlrXyu9xfOVF"
      },
      "source": [
        "# Get Data"
      ]
    },
    {
      "cell_type": "code",
      "execution_count": null,
      "metadata": {
        "colab": {
          "base_uri": "https://localhost:8080/"
        },
        "id": "YWi-NnpHfOVF",
        "outputId": "866d0268-4ef5-4c3a-bfd9-538517f8f76a"
      },
      "outputs": [
        {
          "output_type": "execute_result",
          "data": {
            "text/plain": [
              "DatasetDict({\n",
              "    train: Dataset({\n",
              "        features: ['tokens', 'tags', 'lang'],\n",
              "        num_rows: 665\n",
              "    })\n",
              "    validation: Dataset({\n",
              "        features: ['tokens', 'tags', 'lang'],\n",
              "        num_rows: 83\n",
              "    })\n",
              "    test: Dataset({\n",
              "        features: ['tokens', 'tags', 'lang'],\n",
              "        num_rows: 84\n",
              "    })\n",
              "})"
            ]
          },
          "metadata": {},
          "execution_count": 8
        }
      ],
      "source": [
        "raw_datasets = load_dataset(dataset_checkpoint, name=\"ven\")\n",
        "raw_datasets"
      ]
    },
    {
      "cell_type": "code",
      "execution_count": null,
      "metadata": {
        "colab": {
          "base_uri": "https://localhost:8080/"
        },
        "id": "3K-zwzA1fOVF",
        "outputId": "fa848ce0-7934-4910-9604-1233cd6b7f4b"
      },
      "outputs": [
        {
          "output_type": "execute_result",
          "data": {
            "text/plain": [
              "{'tokens': Sequence(feature=Value(dtype='string', id=None), length=-1, id=None),\n",
              " 'tags': Sequence(feature=ClassLabel(names=['B-ADJ', 'B-ADV', 'B-NOUN', 'B-PREP', 'B-VERB', 'I-ADJ', 'I-NOUN', 'I-VERB', 'OUT'], id=None), length=-1, id=None),\n",
              " 'lang': Value(dtype='string', id=None)}"
            ]
          },
          "metadata": {},
          "execution_count": 9
        }
      ],
      "source": [
        "raw_datasets['train'].features"
      ]
    },
    {
      "cell_type": "code",
      "execution_count": null,
      "metadata": {
        "id": "YIEjDpe6fOVG"
      },
      "outputs": [],
      "source": [
        "text_column = \"tokens\"\n",
        "label_column = \"tags\""
      ]
    },
    {
      "cell_type": "code",
      "execution_count": null,
      "metadata": {
        "colab": {
          "base_uri": "https://localhost:8080/"
        },
        "id": "bkcj7peVfOVG",
        "outputId": "d5b4bfd6-b473-4a8a-95fa-013cbb2fdcae"
      },
      "outputs": [
        {
          "output_type": "stream",
          "name": "stdout",
          "text": [
            "['B-ADJ',\n",
            " 'B-ADV',\n",
            " 'B-NOUN',\n",
            " 'B-PREP',\n",
            " 'B-VERB',\n",
            " 'I-ADJ',\n",
            " 'I-NOUN',\n",
            " 'I-VERB',\n",
            " 'OUT']\n"
          ]
        }
      ],
      "source": [
        "class_names = raw_datasets['train'].features['tags'].feature.names\n",
        "id2label = {i: label for i, label in enumerate(class_names)}\n",
        "label2id = {label: i for i, label in enumerate(class_names)}\n",
        "pprint(class_names)"
      ]
    },
    {
      "cell_type": "code",
      "execution_count": null,
      "metadata": {
        "id": "SDHLhGAlfOVG"
      },
      "outputs": [],
      "source": []
    },
    {
      "cell_type": "markdown",
      "metadata": {
        "id": "xiMNuTonfOVG"
      },
      "source": [
        "# Get Model"
      ]
    },
    {
      "cell_type": "code",
      "execution_count": null,
      "metadata": {
        "id": "UOJcr4tefOVG"
      },
      "outputs": [],
      "source": [
        "from transformers import AutoTokenizer, AutoModelForTokenClassification, TrainingArguments, Trainer, \\\n",
        "    DataCollatorForTokenClassification"
      ]
    },
    {
      "cell_type": "code",
      "execution_count": null,
      "metadata": {
        "colab": {
          "base_uri": "https://localhost:8080/"
        },
        "id": "vOsdd17dfOVH",
        "outputId": "fe080f8f-f03d-4ede-b2a0-a5acf1148d52"
      },
      "outputs": [
        {
          "output_type": "stream",
          "name": "stderr",
          "text": [
            "Some weights of XLMRobertaForTokenClassification were not initialized from the model checkpoint at dsfsi/zabantu-ven-120m and are newly initialized: ['classifier.bias', 'classifier.weight']\n",
            "You should probably TRAIN this model on a down-stream task to be able to use it for predictions and inference.\n"
          ]
        }
      ],
      "source": [
        "model = AutoModelForTokenClassification.from_pretrained(model_checkpoint,\n",
        "                                                        num_labels=len(class_names),\n",
        "                                                        id2label=id2label,\n",
        "                                                        label2id=label2id)\n",
        "tokenizer = AutoTokenizer.from_pretrained(model_checkpoint, add_prefix_space=True, model_max_length=512)\n",
        "label_all_tokens = True"
      ]
    },
    {
      "cell_type": "code",
      "execution_count": null,
      "metadata": {
        "id": "gRJsHwr-fOVH"
      },
      "outputs": [],
      "source": []
    },
    {
      "cell_type": "markdown",
      "metadata": {
        "id": "ToT_-GgpfOVH"
      },
      "source": [
        "# Preprocess\n",
        "\n",
        "- Model expects input in the form of a list of integers, where each integer corresponds to a token in the vocabulary. The model also expects a list of integers, where each integer corresponds to a label in the label set.\n",
        "- In huggingface, the model expects the input in the form of a dictionary with keys `input_ids` and `labels`."
      ]
    },
    {
      "cell_type": "code",
      "execution_count": null,
      "metadata": {
        "colab": {
          "base_uri": "https://localhost:8080/"
        },
        "id": "KCWFeT3tfOVH",
        "outputId": "e90dee87-d32e-4dde-d2f6-0497ee071f8d"
      },
      "outputs": [
        {
          "output_type": "execute_result",
          "data": {
            "text/plain": [
              "DatasetDict({\n",
              "    train: Dataset({\n",
              "        features: ['input_ids', 'attention_mask', 'labels'],\n",
              "        num_rows: 665\n",
              "    })\n",
              "    validation: Dataset({\n",
              "        features: ['input_ids', 'attention_mask', 'labels'],\n",
              "        num_rows: 83\n",
              "    })\n",
              "    test: Dataset({\n",
              "        features: ['input_ids', 'attention_mask', 'labels'],\n",
              "        num_rows: 84\n",
              "    })\n",
              "})"
            ]
          },
          "metadata": {},
          "execution_count": 14
        }
      ],
      "source": [
        "def preprocess_function(examples: dict) -> dict:\n",
        "    tokenized_inputs = tokenizer(examples[text_column],\n",
        "                                    truncation=True,\n",
        "                                    is_split_into_words=True)\n",
        "    labels = []\n",
        "    for i, label in enumerate(examples[label_column]):\n",
        "        word_ids = tokenized_inputs.word_ids(batch_index=i)\n",
        "        previous_word_idx = None\n",
        "        label_ids = []\n",
        "        for word_idx in word_ids:\n",
        "            # Special tokens have a word id that is None. We set the label to -100 so they are automatically\n",
        "            # ignored in the loss function.\n",
        "            if word_idx is None:\n",
        "                label_ids.append(-100)\n",
        "            # We set the label for the first token of each word.\n",
        "            elif word_idx != previous_word_idx:\n",
        "                label_ids.append(label[word_idx])\n",
        "            # For the other tokens in a word, we set the label to either the current label or -100, depending on\n",
        "            # the label_all_tokens flag.\n",
        "            else:\n",
        "                label_ids.append(label[word_idx] if label_all_tokens else -100)\n",
        "            previous_word_idx = word_idx\n",
        "        labels.append(label_ids)\n",
        "    tokenized_inputs[\"labels\"] = labels\n",
        "    return tokenized_inputs\n",
        "\n",
        "\n",
        "columns_to_drop = [col for col in raw_datasets['train'].column_names]\n",
        "                    # if col not in [text_column, label_column]]\n",
        "encoded_datasets = raw_datasets.map(preprocess_function,\n",
        "                                    batched=True,\n",
        "                                    num_proc=os.cpu_count() * 2,\n",
        "                                    remove_columns=columns_to_drop)\n",
        "encoded_datasets"
      ]
    },
    {
      "cell_type": "code",
      "execution_count": null,
      "metadata": {
        "id": "XJUlEAzafOVH"
      },
      "outputs": [],
      "source": [
        "# Data collator is called to get next batch of data,\n",
        "# it will pad the data to the maximum length of the batch\n",
        "data_collator = DataCollatorForTokenClassification(tokenizer=tokenizer)"
      ]
    },
    {
      "cell_type": "code",
      "execution_count": null,
      "metadata": {
        "id": "ZijeBc1WfOVH"
      },
      "outputs": [],
      "source": []
    },
    {
      "cell_type": "markdown",
      "metadata": {
        "id": "44SN_BmLfOVH"
      },
      "source": [
        "# Train"
      ]
    },
    {
      "cell_type": "code",
      "execution_count": null,
      "metadata": {
        "id": "rWyO4v_afOVH"
      },
      "outputs": [],
      "source": [
        "import evaluate"
      ]
    },
    {
      "cell_type": "code",
      "execution_count": null,
      "metadata": {
        "id": "V_CGFGG5fOVH"
      },
      "outputs": [],
      "source": [
        "metric = evaluate.load(\"seqeval\")"
      ]
    },
    {
      "cell_type": "code",
      "execution_count": null,
      "metadata": {
        "id": "FlskfeDkfOVI"
      },
      "outputs": [],
      "source": [
        "def compute_metrics(eval_pred):\n",
        "    predictions, labels = eval_pred\n",
        "    predictions = np.argmax(predictions, axis=2)\n",
        "\n",
        "    # Remove ignored index (special tokens)\n",
        "    true_predictions = [\n",
        "        [id2label[p] for (p, tl) in zip(prediction, label) if tl != -100]\n",
        "        for prediction, label in zip(predictions, labels)\n",
        "    ]\n",
        "    true_labels = [\n",
        "        [id2label[tl] for (p, tl) in zip(prediction, label) if tl != -100]\n",
        "        for prediction, label in zip(predictions, labels)\n",
        "    ]\n",
        "\n",
        "    results = metric.compute(predictions=true_predictions, references=true_labels)\n",
        "    return {\n",
        "        \"precision\": results[\"overall_precision\"],\n",
        "        \"recall\": results[\"overall_recall\"],\n",
        "        \"f1\": results[\"overall_f1\"],\n",
        "        \"accuracy\": results[\"overall_accuracy\"],\n",
        "    }"
      ]
    },
    {
      "cell_type": "code",
      "execution_count": null,
      "metadata": {
        "id": "cG_2S56AfOVI"
      },
      "outputs": [],
      "source": [
        "args = TrainingArguments(\n",
        "    local_checkpoint_dir.as_posix(),\n",
        "    eval_strategy=\"epoch\",\n",
        "    save_strategy=\"epoch\",\n",
        "    learning_rate=2e-5,\n",
        "    per_device_train_batch_size=batch_size,\n",
        "    per_device_eval_batch_size=batch_size,\n",
        "    num_train_epochs=epochs,\n",
        "    weight_decay=0.01,\n",
        "    load_best_model_at_end=True,\n",
        "    push_to_hub=push_to_hub,\n",
        "    save_total_limit=1\n",
        ")\n",
        "\n",
        "trainer = Trainer(\n",
        "    model=model,\n",
        "    args=args,\n",
        "    train_dataset=encoded_datasets[\"train\"],\n",
        "    eval_dataset=encoded_datasets[\"validation\"],\n",
        "    data_collator=data_collator,\n",
        "    tokenizer=tokenizer,\n",
        "    compute_metrics=compute_metrics\n",
        ")"
      ]
    },
    {
      "cell_type": "code",
      "execution_count": null,
      "metadata": {
        "colab": {
          "base_uri": "https://localhost:8080/",
          "height": 236
        },
        "id": "7UV_K05jfOVI",
        "outputId": "7c02626b-7497-42a9-a2e4-b692068e461d"
      },
      "outputs": [
        {
          "output_type": "display_data",
          "data": {
            "text/plain": [
              "<IPython.core.display.HTML object>"
            ],
            "text/html": [
              "\n",
              "    <div>\n",
              "      \n",
              "      <progress value='167' max='167' style='width:300px; height:20px; vertical-align: middle;'></progress>\n",
              "      [167/167 00:34, Epoch 1/1]\n",
              "    </div>\n",
              "    <table border=\"1\" class=\"dataframe\">\n",
              "  <thead>\n",
              " <tr style=\"text-align: left;\">\n",
              "      <th>Epoch</th>\n",
              "      <th>Training Loss</th>\n",
              "      <th>Validation Loss</th>\n",
              "      <th>Precision</th>\n",
              "      <th>Recall</th>\n",
              "      <th>F1</th>\n",
              "      <th>Accuracy</th>\n",
              "    </tr>\n",
              "  </thead>\n",
              "  <tbody>\n",
              "    <tr>\n",
              "      <td>1</td>\n",
              "      <td>No log</td>\n",
              "      <td>0.468125</td>\n",
              "      <td>0.823038</td>\n",
              "      <td>0.859634</td>\n",
              "      <td>0.840938</td>\n",
              "      <td>0.855131</td>\n",
              "    </tr>\n",
              "  </tbody>\n",
              "</table><p>"
            ]
          },
          "metadata": {}
        },
        {
          "output_type": "stream",
          "name": "stderr",
          "text": [
            "/usr/local/lib/python3.10/dist-packages/seqeval/metrics/sequence_labeling.py:171: UserWarning: OUT seems not to be NE tag.\n",
            "  warnings.warn('{} seems not to be NE tag.'.format(chunk))\n",
            "Some non-default generation parameters are set in the model config. These should go into a GenerationConfig file (https://huggingface.co/docs/transformers/generation_strategies#save-a-custom-decoding-strategy-with-your-model) instead. This warning will be raised to an exception in v4.41.\n",
            "Non-default generation parameters: {'max_length': 512}\n"
          ]
        },
        {
          "output_type": "execute_result",
          "data": {
            "text/plain": [
              "TrainOutput(global_step=167, training_loss=0.7350105696809506, metrics={'train_runtime': 35.8283, 'train_samples_per_second': 18.561, 'train_steps_per_second': 4.661, 'total_flos': 11451059128494.0, 'train_loss': 0.7350105696809506, 'epoch': 1.0})"
            ]
          },
          "metadata": {},
          "execution_count": 20
        }
      ],
      "source": [
        "trainer.train()"
      ]
    },
    {
      "cell_type": "code",
      "execution_count": null,
      "metadata": {
        "colab": {
          "base_uri": "https://localhost:8080/",
          "height": 238
        },
        "id": "4w7MsZpkfOVI",
        "outputId": "54a362b4-377d-4298-8504-01a520793aeb"
      },
      "outputs": [
        {
          "output_type": "display_data",
          "data": {
            "text/plain": [
              "<IPython.core.display.HTML object>"
            ],
            "text/html": [
              "\n",
              "    <div>\n",
              "      \n",
              "      <progress value='21' max='21' style='width:300px; height:20px; vertical-align: middle;'></progress>\n",
              "      [21/21 00:00]\n",
              "    </div>\n",
              "    "
            ]
          },
          "metadata": {}
        },
        {
          "output_type": "stream",
          "name": "stderr",
          "text": [
            "/usr/local/lib/python3.10/dist-packages/seqeval/metrics/sequence_labeling.py:171: UserWarning: OUT seems not to be NE tag.\n",
            "  warnings.warn('{} seems not to be NE tag.'.format(chunk))\n"
          ]
        },
        {
          "output_type": "execute_result",
          "data": {
            "text/plain": [
              "{'eval_loss': 0.4681253433227539,\n",
              " 'eval_precision': 0.8230383973288815,\n",
              " 'eval_recall': 0.8596338273757629,\n",
              " 'eval_f1': 0.8409381663113007,\n",
              " 'eval_accuracy': 0.8551307847082495,\n",
              " 'eval_runtime': 0.3879,\n",
              " 'eval_samples_per_second': 213.988,\n",
              " 'eval_steps_per_second': 54.141,\n",
              " 'epoch': 1.0}"
            ]
          },
          "metadata": {},
          "execution_count": 21
        }
      ],
      "source": [
        "trainer.evaluate()"
      ]
    },
    {
      "cell_type": "code",
      "source": [
        "sample_text = raw_datasets['test'].shuffle()[-1]['tokens']\n",
        "sample_text"
      ],
      "metadata": {
        "colab": {
          "base_uri": "https://localhost:8080/"
        },
        "id": "Im68ia1PicNl",
        "outputId": "73f58d80-f08a-4b79-b573-82347960286f"
      },
      "execution_count": null,
      "outputs": [
        {
          "output_type": "execute_result",
          "data": {
            "text/plain": [
              "['Kha',\n",
              " 'vha',\n",
              " 'vhale',\n",
              " 'fomo',\n",
              " 'ya',\n",
              " 'khumbelo',\n",
              " 'nga',\n",
              " 'vhuronwane',\n",
              " 'nahone',\n",
              " 'vha',\n",
              " 'vhone',\n",
              " 'uri',\n",
              " 'vha',\n",
              " 'fusha',\n",
              " 'ṱhoḓea',\n",
              " 'dzoṱhe',\n",
              " 'dza',\n",
              " 'khumbelo',\n",
              " '.']"
            ]
          },
          "metadata": {},
          "execution_count": 26
        }
      ]
    },
    {
      "cell_type": "code",
      "source": [
        "from transformers import pipeline"
      ],
      "metadata": {
        "id": "NQmDsa15ihw9"
      },
      "execution_count": null,
      "outputs": []
    },
    {
      "cell_type": "code",
      "source": [
        "pipe = pipeline(\"token-classification\", model=trainer.model, tokenizer=tokenizer, device=0)"
      ],
      "metadata": {
        "id": "W70dmkO7ivEw"
      },
      "execution_count": null,
      "outputs": []
    },
    {
      "cell_type": "code",
      "source": [
        "from pprint import pprint\n",
        "\n",
        "sample_prediction = pipe(sample_text)\n",
        "pprint(sample_prediction)"
      ],
      "metadata": {
        "colab": {
          "base_uri": "https://localhost:8080/"
        },
        "id": "HHFbQbFViaHP",
        "outputId": "0df8d3d7-8a16-4934-c93d-fb0bc0c0d7c3"
      },
      "execution_count": null,
      "outputs": [
        {
          "output_type": "stream",
          "name": "stdout",
          "text": [
            "[[{'end': 1,\n",
            "   'entity': 'B-NOUN',\n",
            "   'index': 1,\n",
            "   'score': 0.65769863,\n",
            "   'start': 0,\n",
            "   'word': '▁'},\n",
            "  {'end': 1,\n",
            "   'entity': 'B-NOUN',\n",
            "   'index': 2,\n",
            "   'score': 0.43019685,\n",
            "   'start': 0,\n",
            "   'word': 'K'},\n",
            "  {'end': 3,\n",
            "   'entity': 'B-NOUN',\n",
            "   'index': 3,\n",
            "   'score': 0.603958,\n",
            "   'start': 1,\n",
            "   'word': 'ha'}],\n",
            " [{'end': 3,\n",
            "   'entity': 'B-NOUN',\n",
            "   'index': 1,\n",
            "   'score': 0.4864361,\n",
            "   'start': 0,\n",
            "   'word': '▁vha'}],\n",
            " [{'end': 5,\n",
            "   'entity': 'B-VERB',\n",
            "   'index': 1,\n",
            "   'score': 0.5865077,\n",
            "   'start': 0,\n",
            "   'word': '▁vhale'}],\n",
            " [{'end': 4,\n",
            "   'entity': 'B-NOUN',\n",
            "   'index': 1,\n",
            "   'score': 0.86941147,\n",
            "   'start': 0,\n",
            "   'word': '▁fomo'}],\n",
            " [{'end': 2,\n",
            "   'entity': 'OUT',\n",
            "   'index': 1,\n",
            "   'score': 0.48558617,\n",
            "   'start': 0,\n",
            "   'word': '▁ya'}],\n",
            " [{'end': 8,\n",
            "   'entity': 'B-NOUN',\n",
            "   'index': 1,\n",
            "   'score': 0.9637129,\n",
            "   'start': 0,\n",
            "   'word': '▁khumbelo'}],\n",
            " [{'end': 3,\n",
            "   'entity': 'B-NOUN',\n",
            "   'index': 1,\n",
            "   'score': 0.46816188,\n",
            "   'start': 0,\n",
            "   'word': '▁nga'}],\n",
            " [{'end': 10,\n",
            "   'entity': 'B-NOUN',\n",
            "   'index': 1,\n",
            "   'score': 0.54966515,\n",
            "   'start': 0,\n",
            "   'word': '▁vhuronwane'}],\n",
            " [{'end': 6,\n",
            "   'entity': 'OUT',\n",
            "   'index': 1,\n",
            "   'score': 0.9372339,\n",
            "   'start': 0,\n",
            "   'word': '▁nahone'}],\n",
            " [{'end': 3,\n",
            "   'entity': 'B-NOUN',\n",
            "   'index': 1,\n",
            "   'score': 0.4864361,\n",
            "   'start': 0,\n",
            "   'word': '▁vha'}],\n",
            " [{'end': 5,\n",
            "   'entity': 'B-NOUN',\n",
            "   'index': 1,\n",
            "   'score': 0.81894344,\n",
            "   'start': 0,\n",
            "   'word': '▁vhone'}],\n",
            " [{'end': 3,\n",
            "   'entity': 'OUT',\n",
            "   'index': 1,\n",
            "   'score': 0.65039665,\n",
            "   'start': 0,\n",
            "   'word': '▁uri'}],\n",
            " [{'end': 3,\n",
            "   'entity': 'B-NOUN',\n",
            "   'index': 1,\n",
            "   'score': 0.4864361,\n",
            "   'start': 0,\n",
            "   'word': '▁vha'}],\n",
            " [{'end': 5,\n",
            "   'entity': 'B-NOUN',\n",
            "   'index': 1,\n",
            "   'score': 0.60550195,\n",
            "   'start': 0,\n",
            "   'word': '▁fusha'}],\n",
            " [{'end': 1,\n",
            "   'entity': 'B-NOUN',\n",
            "   'index': 1,\n",
            "   'score': 0.89786434,\n",
            "   'start': 0,\n",
            "   'word': '▁'},\n",
            "  {'end': 1,\n",
            "   'entity': 'B-NOUN',\n",
            "   'index': 2,\n",
            "   'score': 0.94361997,\n",
            "   'start': 0,\n",
            "   'word': 'ṱ'},\n",
            "  {'end': 3,\n",
            "   'entity': 'B-NOUN',\n",
            "   'index': 3,\n",
            "   'score': 0.87110484,\n",
            "   'start': 1,\n",
            "   'word': 'ho'},\n",
            "  {'end': 4,\n",
            "   'entity': 'B-NOUN',\n",
            "   'index': 4,\n",
            "   'score': 0.54494333,\n",
            "   'start': 3,\n",
            "   'word': 'ḓ'},\n",
            "  {'end': 6,\n",
            "   'entity': 'B-NOUN',\n",
            "   'index': 5,\n",
            "   'score': 0.6136143,\n",
            "   'start': 4,\n",
            "   'word': 'ea'}],\n",
            " [{'end': 3,\n",
            "   'entity': 'B-NOUN',\n",
            "   'index': 1,\n",
            "   'score': 0.7102756,\n",
            "   'start': 0,\n",
            "   'word': '▁dzo'},\n",
            "  {'end': 4,\n",
            "   'entity': 'B-NOUN',\n",
            "   'index': 2,\n",
            "   'score': 0.67524326,\n",
            "   'start': 3,\n",
            "   'word': 'ṱ'},\n",
            "  {'end': 6,\n",
            "   'entity': 'B-NOUN',\n",
            "   'index': 3,\n",
            "   'score': 0.55566597,\n",
            "   'start': 4,\n",
            "   'word': 'he'}],\n",
            " [{'end': 3,\n",
            "   'entity': 'B-NOUN',\n",
            "   'index': 1,\n",
            "   'score': 0.59934086,\n",
            "   'start': 0,\n",
            "   'word': '▁dza'}],\n",
            " [{'end': 8,\n",
            "   'entity': 'B-NOUN',\n",
            "   'index': 1,\n",
            "   'score': 0.9637129,\n",
            "   'start': 0,\n",
            "   'word': '▁khumbelo'}],\n",
            " [{'end': 1,\n",
            "   'entity': 'OUT',\n",
            "   'index': 1,\n",
            "   'score': 0.96380466,\n",
            "   'start': 0,\n",
            "   'word': '▁.'}]]\n"
          ]
        }
      ]
    },
    {
      "cell_type": "code",
      "execution_count": null,
      "metadata": {
        "id": "BvpdLMlQfOVI"
      },
      "outputs": [],
      "source": []
    },
    {
      "cell_type": "markdown",
      "metadata": {
        "id": "meTU8gNYfOVI"
      },
      "source": [
        "# Full evaluation"
      ]
    },
    {
      "cell_type": "code",
      "execution_count": null,
      "metadata": {
        "id": "Bro6p_bofOVI"
      },
      "outputs": [],
      "source": [
        "import json\n",
        "import click\n",
        "\n",
        "import seaborn as sns\n",
        "import matplotlib.pyplot as plt\n",
        "from datasets import Dataset\n",
        "from sklearn.metrics import classification_report, confusion_matrix"
      ]
    },
    {
      "cell_type": "code",
      "source": [
        "encoded_datasets['test'][1]['input_ids']"
      ],
      "metadata": {
        "colab": {
          "base_uri": "https://localhost:8080/"
        },
        "id": "r9vkhNp1ojOW",
        "outputId": "d0dd6ba8-d17f-4900-a06b-4783a58bf79b"
      },
      "execution_count": null,
      "outputs": [
        {
          "output_type": "execute_result",
          "data": {
            "text/plain": [
              "[0,\n",
              " 84950,\n",
              " 3,\n",
              " 8837,\n",
              " 63,\n",
              " 84950,\n",
              " 3,\n",
              " 1274,\n",
              " 1203,\n",
              " 21,\n",
              " 44,\n",
              " 3,\n",
              " 7115,\n",
              " 24,\n",
              " 1738,\n",
              " 24,\n",
              " 685,\n",
              " 21,\n",
              " 995,\n",
              " 2]"
            ]
          },
          "metadata": {},
          "execution_count": 57
        }
      ]
    },
    {
      "cell_type": "code",
      "source": [
        "raw_datasets['test'][1]"
      ],
      "metadata": {
        "colab": {
          "base_uri": "https://localhost:8080/"
        },
        "id": "YVnnheBUpCZj",
        "outputId": "61a997c7-66cf-4c3a-96a0-545229c2e308"
      },
      "execution_count": null,
      "outputs": [
        {
          "output_type": "execute_result",
          "data": {
            "text/plain": [
              "{'tokens': ['ṋomboro',\n",
              "  'dza',\n",
              "  'ID',\n",
              "  ',',\n",
              "  'madzina',\n",
              "  'na',\n",
              "  'maḓuvha',\n",
              "  'a',\n",
              "  'mabebo',\n",
              "  'a',\n",
              "  'munna',\n",
              "  'na',\n",
              "  'mufumakadzi'],\n",
              " 'tags': [2, 8, 2, 8, 2, 8, 2, 8, 2, 8, 2, 8, 2],\n",
              " 'lang': 'ven'}"
            ]
          },
          "metadata": {},
          "execution_count": 60
        }
      ]
    },
    {
      "cell_type": "code",
      "source": [
        "tokenizer.decode(encoded_datasets['test'][1]['input_ids'], is_split_into_words=True).split()"
      ],
      "metadata": {
        "colab": {
          "base_uri": "https://localhost:8080/"
        },
        "id": "KCbs3wndoPmv",
        "outputId": "b243de62-baee-4f97-e861-2f350f06c07c"
      },
      "execution_count": null,
      "outputs": [
        {
          "output_type": "execute_result",
          "data": {
            "text/plain": [
              "['<s>',\n",
              " '<unk>omboro',\n",
              " 'dza',\n",
              " '<unk>,',\n",
              " 'madzina',\n",
              " 'na',\n",
              " 'ma<unk>uvha',\n",
              " 'a',\n",
              " 'mabebo',\n",
              " 'a',\n",
              " 'munna',\n",
              " 'na',\n",
              " 'mufumakadzi</s>']"
            ]
          },
          "metadata": {},
          "execution_count": 59
        }
      ]
    },
    {
      "cell_type": "code",
      "execution_count": null,
      "metadata": {
        "colab": {
          "base_uri": "https://localhost:8080/",
          "height": 1000
        },
        "id": "NKWouBm2fOVI",
        "outputId": "7404997d-bb74-4259-bba5-473432cf5bad"
      },
      "outputs": [
        {
          "output_type": "stream",
          "name": "stdout",
          "text": [
            "Running full eval. ArtifactsDir=/content/data/checkpoints/zabantu-ven-120m-pos-tshivenda/eval\n"
          ]
        },
        {
          "output_type": "display_data",
          "data": {
            "text/plain": [
              "<IPython.core.display.HTML object>"
            ],
            "text/html": []
          },
          "metadata": {}
        },
        {
          "output_type": "stream",
          "name": "stderr",
          "text": [
            "/usr/local/lib/python3.10/dist-packages/seqeval/metrics/sequence_labeling.py:171: UserWarning: OUT seems not to be NE tag.\n",
            "  warnings.warn('{} seems not to be NE tag.'.format(chunk))\n",
            "/usr/local/lib/python3.10/dist-packages/seqeval/metrics/v1.py:57: UndefinedMetricWarning: Precision and F-score are ill-defined and being set to 0.0 in labels with no predicted samples. Use `zero_division` parameter to control this behavior.\n",
            "  _warn_prf(average, modifier, msg_start, len(result))\n"
          ]
        },
        {
          "output_type": "stream",
          "name": "stdout",
          "text": [
            "<class 'dict'>\n",
            "Final test scores:  {'ADJ': {'precision': 0.9375, 'recall': 0.5769230769230769, 'f1': 0.7142857142857143, 'number': 78}, 'ADV': {'precision': 0.0, 'recall': 0.0, 'f1': 0.0, 'number': 23}, 'NOUN': {'precision': 0.7960954446854663, 'recall': 0.935031847133758, 'f1': 0.8599882835383715, 'number': 785}, 'PREP': {'precision': 0.9156626506024096, 'recall': 0.7037037037037037, 'f1': 0.7958115183246074, 'number': 108}, 'VERB': {'precision': 0.8641025641025641, 'recall': 0.8663239074550129, 'f1': 0.865211810012837, 'number': 389}, 'overall_precision': 0.8260568260568261, 'overall_recall': 0.8618944323933478, 'overall_f1': 0.8435951875442322, 'overall_accuracy': 0.8547486033519553}\n",
            "--------------------------------------------------\n",
            "              precision    recall  f1-score   support\n",
            "\n",
            "       B-ADJ       0.94      0.58      0.71        78\n",
            "       B-ADV       0.00      0.00      0.00        23\n",
            "      B-NOUN       0.80      0.94      0.86       785\n",
            "      B-PREP       0.92      0.70      0.80       108\n",
            "      B-VERB       0.86      0.87      0.87       389\n",
            "      I-NOUN       0.00      0.00      0.00        16\n",
            "         OUT       0.90      0.86      0.88       928\n",
            "\n",
            "    accuracy                           0.85      2327\n",
            "   macro avg       0.63      0.56      0.59      2327\n",
            "weighted avg       0.85      0.85      0.85      2327\n",
            "\n"
          ]
        },
        {
          "output_type": "stream",
          "name": "stderr",
          "text": [
            "/usr/local/lib/python3.10/dist-packages/sklearn/metrics/_classification.py:1344: UndefinedMetricWarning: Precision and F-score are ill-defined and being set to 0.0 in labels with no predicted samples. Use `zero_division` parameter to control this behavior.\n",
            "  _warn_prf(average, modifier, msg_start, len(result))\n",
            "/usr/local/lib/python3.10/dist-packages/sklearn/metrics/_classification.py:1344: UndefinedMetricWarning: Precision and F-score are ill-defined and being set to 0.0 in labels with no predicted samples. Use `zero_division` parameter to control this behavior.\n",
            "  _warn_prf(average, modifier, msg_start, len(result))\n",
            "/usr/local/lib/python3.10/dist-packages/sklearn/metrics/_classification.py:1344: UndefinedMetricWarning: Precision and F-score are ill-defined and being set to 0.0 in labels with no predicted samples. Use `zero_division` parameter to control this behavior.\n",
            "  _warn_prf(average, modifier, msg_start, len(result))\n",
            "/usr/local/lib/python3.10/dist-packages/sklearn/metrics/_classification.py:1344: UndefinedMetricWarning: Precision and F-score are ill-defined and being set to 0.0 in labels with no predicted samples. Use `zero_division` parameter to control this behavior.\n",
            "  _warn_prf(average, modifier, msg_start, len(result))\n",
            "/usr/local/lib/python3.10/dist-packages/sklearn/metrics/_classification.py:1344: UndefinedMetricWarning: Recall and F-score are ill-defined and being set to 0.0 in labels with no true samples. Use `zero_division` parameter to control this behavior.\n",
            "  _warn_prf(average, modifier, msg_start, len(result))\n",
            "/usr/local/lib/python3.10/dist-packages/sklearn/metrics/_classification.py:1344: UndefinedMetricWarning: Precision and F-score are ill-defined and being set to 0.0 due to no predicted samples. Use `zero_division` parameter to control this behavior.\n",
            "  _warn_prf(average, modifier, msg_start, len(result))\n",
            "/usr/local/lib/python3.10/dist-packages/sklearn/metrics/_classification.py:1344: UndefinedMetricWarning: Recall and F-score are ill-defined and being set to 0.0 due to no true samples. Use `zero_division` parameter to control this behavior.\n",
            "  _warn_prf(average, modifier, msg_start, len(result))\n",
            "/usr/local/lib/python3.10/dist-packages/sklearn/metrics/_classification.py:1344: UndefinedMetricWarning: Precision and F-score are ill-defined and being set to 0.0 in labels with no predicted samples. Use `zero_division` parameter to control this behavior.\n",
            "  _warn_prf(average, modifier, msg_start, len(result))\n",
            "/usr/local/lib/python3.10/dist-packages/sklearn/metrics/_classification.py:1344: UndefinedMetricWarning: Recall and F-score are ill-defined and being set to 0.0 in labels with no true samples. Use `zero_division` parameter to control this behavior.\n",
            "  _warn_prf(average, modifier, msg_start, len(result))\n",
            "/usr/local/lib/python3.10/dist-packages/sklearn/metrics/_classification.py:1344: UndefinedMetricWarning: Precision and F-score are ill-defined and being set to 0.0 in labels with no predicted samples. Use `zero_division` parameter to control this behavior.\n",
            "  _warn_prf(average, modifier, msg_start, len(result))\n",
            "/usr/local/lib/python3.10/dist-packages/sklearn/metrics/_classification.py:1344: UndefinedMetricWarning: Recall and F-score are ill-defined and being set to 0.0 in labels with no true samples. Use `zero_division` parameter to control this behavior.\n",
            "  _warn_prf(average, modifier, msg_start, len(result))\n"
          ]
        },
        {
          "output_type": "display_data",
          "data": {
            "text/plain": [
              "<Figure size 1000x1000 with 2 Axes>"
            ],
            "image/png": "[encoded data removed]"
          },
          "metadata": {}
        }
      ],
      "source": [
        "def full_evaluation(test_dataset: Dataset,\n",
        "                    trainer: Trainer,\n",
        "                    output_dir: Path,\n",
        "                    id2label: dict[int, str],\n",
        "                    class_names: list[str]) -> Path:\n",
        "    print(f\"Running full eval. ArtifactsDir={output_dir}\")\n",
        "    predictions, labels, _ = trainer.predict(test_dataset)\n",
        "    predictions = np.argmax(predictions, axis=2)\n",
        "\n",
        "    # Remove ignored index (special tokens)\n",
        "    predicted_labels = [\n",
        "        [id2label[p] for (p, tl) in zip(prediction, label) if tl != -100]\n",
        "        for prediction, label in zip(predictions, labels)\n",
        "    ]\n",
        "\n",
        "    true_labels = [\n",
        "        [id2label[tl] for (p, tl) in zip(prediction, label) if tl != -100]\n",
        "        for prediction, label in zip(predictions, labels)\n",
        "    ]\n",
        "\n",
        "    # save final scores\n",
        "    scores = metric.compute(predictions=predicted_labels, references=true_labels)\n",
        "    print(type(scores))\n",
        "    print(\"Final test scores: \", scores)\n",
        "    output_dir.joinpath(\"scores.json\").write_text(str(scores))\n",
        "\n",
        "    # flatten predictions\n",
        "    predicted_labels = [item for sublist in predicted_labels for item in sublist]\n",
        "    true_labels = [item for sublist in true_labels for item in sublist]\n",
        "\n",
        "    # Make sure the output directory exists\n",
        "    output_dir.mkdir(parents=True, exist_ok=True)\n",
        "\n",
        "    print('-' * 50)\n",
        "    report = classification_report(true_labels, predicted_labels)\n",
        "    print(report)\n",
        "    with open(output_dir / \"classification_report.json\", \"w\") as f:\n",
        "        json.dump(classification_report(true_labels,\n",
        "                                        predicted_labels,\n",
        "                                        target_names=class_names,\n",
        "                                        labels=np.arange(len(class_names)),\n",
        "                                        output_dict=True), f, indent=4)\n",
        "\n",
        "    # confusion matrix\n",
        "    cm = confusion_matrix(true_labels, predicted_labels)\n",
        "    unique_class_names = np.unique(true_labels).tolist()\n",
        "    fig, ax = plt.subplots(figsize=(10, 10))\n",
        "    sns.heatmap(cm, annot=True,\n",
        "                fmt='d',\n",
        "                xticklabels=unique_class_names,\n",
        "                yticklabels=unique_class_names,\n",
        "                cmap='Blues', ax=ax)\n",
        "    ax.set_xlabel('Predicted Labels')\n",
        "    ax.set_ylabel('True Labels')\n",
        "    ax.set_title('Confusion Matrix')\n",
        "    fig.savefig(output_dir / \"confusion_matrix.png\", dpi=300, format='png')\n",
        "\n",
        "    # save the predictions\n",
        "    with open(output_dir / \"predictions.csv\", \"w\") as f:\n",
        "      pd.DataFrame({\n",
        "              # \"tokens\": [t for tl in tokens for t in tl],\n",
        "              \"tags\": true_labels,\n",
        "              \"predicted_labels\": predicted_labels\n",
        "      }).to_csv(f, index=False)\n",
        "\n",
        "    return output_dir\n",
        "\n",
        "\n",
        "artifacts_dir = full_evaluation(encoded_datasets[\"test\"],\n",
        "                                trainer,\n",
        "                                local_checkpoint_dir.joinpath('eval'),\n",
        "                                id2label,\n",
        "                                class_names)"
      ]
    },
    {
      "cell_type": "code",
      "execution_count": null,
      "metadata": {
        "id": "PQdIABUVfOVJ"
      },
      "outputs": [],
      "source": []
    }
  ],
  "metadata": {
    "kernelspec": {
      "display_name": "Python 3",
      "name": "python3"
    },
    "language_info": {
      "codemirror_mode": {
        "name": "ipython",
        "version": 3
      },
      "file_extension": ".py",
      "mimetype": "text/x-python",
      "name": "python",
      "nbconvert_exporter": "python",
      "pygments_lexer": "ipython3",
      "version": "3.11.9"
    },
    "colab": {
      "provenance": [],
      "gpuType": "T4"
    },
    "accelerator": "GPU"
  },
  "nbformat": 4,
  "nbformat_minor": 0
}